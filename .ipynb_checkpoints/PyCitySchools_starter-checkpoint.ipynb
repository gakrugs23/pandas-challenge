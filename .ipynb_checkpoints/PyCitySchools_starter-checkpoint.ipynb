{
 "cells": [
  {
   "cell_type": "markdown",
   "metadata": {},
   "source": [
    "# PyCity Schools Analysis\n",
    "\n",
    "- Your analysis here\n",
    "  \n",
    "---"
   ]
  },
  {
   "cell_type": "code",
   "execution_count": 3,
   "metadata": {},
   "outputs": [
    {
     "data": {
      "text/html": [
       "<div>\n",
       "<style scoped>\n",
       "    .dataframe tbody tr th:only-of-type {\n",
       "        vertical-align: middle;\n",
       "    }\n",
       "\n",
       "    .dataframe tbody tr th {\n",
       "        vertical-align: top;\n",
       "    }\n",
       "\n",
       "    .dataframe thead th {\n",
       "        text-align: right;\n",
       "    }\n",
       "</style>\n",
       "<table border=\"1\" class=\"dataframe\">\n",
       "  <thead>\n",
       "    <tr style=\"text-align: right;\">\n",
       "      <th></th>\n",
       "      <th>Student ID</th>\n",
       "      <th>student_name</th>\n",
       "      <th>gender</th>\n",
       "      <th>grade</th>\n",
       "      <th>school_name</th>\n",
       "      <th>reading_score</th>\n",
       "      <th>math_score</th>\n",
       "      <th>School ID</th>\n",
       "      <th>type</th>\n",
       "      <th>size</th>\n",
       "      <th>budget</th>\n",
       "    </tr>\n",
       "  </thead>\n",
       "  <tbody>\n",
       "    <tr>\n",
       "      <th>0</th>\n",
       "      <td>0</td>\n",
       "      <td>Paul Bradley</td>\n",
       "      <td>M</td>\n",
       "      <td>9th</td>\n",
       "      <td>Huang High School</td>\n",
       "      <td>66</td>\n",
       "      <td>79</td>\n",
       "      <td>0</td>\n",
       "      <td>District</td>\n",
       "      <td>2917</td>\n",
       "      <td>1910635</td>\n",
       "    </tr>\n",
       "    <tr>\n",
       "      <th>1</th>\n",
       "      <td>1</td>\n",
       "      <td>Victor Smith</td>\n",
       "      <td>M</td>\n",
       "      <td>12th</td>\n",
       "      <td>Huang High School</td>\n",
       "      <td>94</td>\n",
       "      <td>61</td>\n",
       "      <td>0</td>\n",
       "      <td>District</td>\n",
       "      <td>2917</td>\n",
       "      <td>1910635</td>\n",
       "    </tr>\n",
       "    <tr>\n",
       "      <th>2</th>\n",
       "      <td>2</td>\n",
       "      <td>Kevin Rodriguez</td>\n",
       "      <td>M</td>\n",
       "      <td>12th</td>\n",
       "      <td>Huang High School</td>\n",
       "      <td>90</td>\n",
       "      <td>60</td>\n",
       "      <td>0</td>\n",
       "      <td>District</td>\n",
       "      <td>2917</td>\n",
       "      <td>1910635</td>\n",
       "    </tr>\n",
       "    <tr>\n",
       "      <th>3</th>\n",
       "      <td>3</td>\n",
       "      <td>Dr. Richard Scott</td>\n",
       "      <td>M</td>\n",
       "      <td>12th</td>\n",
       "      <td>Huang High School</td>\n",
       "      <td>67</td>\n",
       "      <td>58</td>\n",
       "      <td>0</td>\n",
       "      <td>District</td>\n",
       "      <td>2917</td>\n",
       "      <td>1910635</td>\n",
       "    </tr>\n",
       "    <tr>\n",
       "      <th>4</th>\n",
       "      <td>4</td>\n",
       "      <td>Bonnie Ray</td>\n",
       "      <td>F</td>\n",
       "      <td>9th</td>\n",
       "      <td>Huang High School</td>\n",
       "      <td>97</td>\n",
       "      <td>84</td>\n",
       "      <td>0</td>\n",
       "      <td>District</td>\n",
       "      <td>2917</td>\n",
       "      <td>1910635</td>\n",
       "    </tr>\n",
       "  </tbody>\n",
       "</table>\n",
       "</div>"
      ],
      "text/plain": [
       "   Student ID       student_name gender grade        school_name  \\\n",
       "0           0       Paul Bradley      M   9th  Huang High School   \n",
       "1           1       Victor Smith      M  12th  Huang High School   \n",
       "2           2    Kevin Rodriguez      M  12th  Huang High School   \n",
       "3           3  Dr. Richard Scott      M  12th  Huang High School   \n",
       "4           4         Bonnie Ray      F   9th  Huang High School   \n",
       "\n",
       "   reading_score  math_score  School ID      type  size   budget  \n",
       "0             66          79          0  District  2917  1910635  \n",
       "1             94          61          0  District  2917  1910635  \n",
       "2             90          60          0  District  2917  1910635  \n",
       "3             67          58          0  District  2917  1910635  \n",
       "4             97          84          0  District  2917  1910635  "
      ]
     },
     "execution_count": 3,
     "metadata": {},
     "output_type": "execute_result"
    }
   ],
   "source": [
    "# Dependencies and Setup\n",
    "import pandas as pd\n",
    "from pathlib import Path\n",
    "\n",
    "# File to Load (Remember to Change These)\n",
    "school_data_to_load = Path(\"Resources/schools_complete.csv\")\n",
    "student_data_to_load = Path(\"Resources/students_complete.csv\")\n",
    "\n",
    "# Read School and Student Data File and store into Pandas DataFrames\n",
    "school_data = pd.read_csv(school_data_to_load)\n",
    "student_data = pd.read_csv(student_data_to_load)\n",
    "\n",
    "# Combine the data into a single dataset.  \n",
    "school_data_complete = pd.merge(student_data, school_data, how=\"left\", on=[\"school_name\", \"school_name\"])\n",
    "school_data_complete.head()"
   ]
  },
  {
   "cell_type": "markdown",
   "metadata": {},
   "source": [
    "## District Summary"
   ]
  },
  {
   "cell_type": "code",
   "execution_count": 4,
   "metadata": {},
   "outputs": [
    {
     "data": {
      "text/plain": [
       "15"
      ]
     },
     "execution_count": 4,
     "metadata": {},
     "output_type": "execute_result"
    }
   ],
   "source": [
    "# Calculate the total number of unique schools\n",
    "school_count = school_data[\"school_name\"].nunique()\n",
    "school_count"
   ]
  },
  {
   "cell_type": "code",
   "execution_count": 5,
   "metadata": {},
   "outputs": [
    {
     "data": {
      "text/plain": [
       "39170"
      ]
     },
     "execution_count": 5,
     "metadata": {},
     "output_type": "execute_result"
    }
   ],
   "source": [
    "# Calculate the total number of students\n",
    "student_count = student_data[\"student_name\"].count()\n",
    "student_count"
   ]
  },
  {
   "cell_type": "code",
   "execution_count": 6,
   "metadata": {},
   "outputs": [
    {
     "data": {
      "text/plain": [
       "24649428"
      ]
     },
     "execution_count": 6,
     "metadata": {},
     "output_type": "execute_result"
    }
   ],
   "source": [
    "# Calculate the total budget\n",
    "total_budget = school_data[\"budget\"].sum()\n",
    "total_budget"
   ]
  },
  {
   "cell_type": "code",
   "execution_count": 7,
   "metadata": {},
   "outputs": [
    {
     "data": {
      "text/plain": [
       "78.98537145774827"
      ]
     },
     "execution_count": 7,
     "metadata": {},
     "output_type": "execute_result"
    }
   ],
   "source": [
    "# Calculate the average (mean) math score\n",
    "average_math_score = student_data[(\"math_score\")].mean()\n",
    "average_math_score"
   ]
  },
  {
   "cell_type": "code",
   "execution_count": 8,
   "metadata": {},
   "outputs": [
    {
     "data": {
      "text/plain": [
       "81.87784018381414"
      ]
     },
     "execution_count": 8,
     "metadata": {},
     "output_type": "execute_result"
    }
   ],
   "source": [
    "# Calculate the average (mean) reading score\n",
    "average_reading_score = student_data[\"reading_score\"].mean()\n",
    "average_reading_score"
   ]
  },
  {
   "cell_type": "code",
   "execution_count": 9,
   "metadata": {},
   "outputs": [
    {
     "data": {
      "text/plain": [
       "74.9808526933878"
      ]
     },
     "execution_count": 9,
     "metadata": {},
     "output_type": "execute_result"
    }
   ],
   "source": [
    "# Use the following to calculate the percentage of students who passed math (math scores greather than or equal to 70)\n",
    "passing_math_count = school_data_complete[(school_data_complete[\"math_score\"] >= 70)].count()[\"student_name\"]\n",
    "passing_math_percentage = passing_math_count / float(student_count) * 100\n",
    "passing_math_percentage"
   ]
  },
  {
   "cell_type": "code",
   "execution_count": 10,
   "metadata": {},
   "outputs": [
    {
     "data": {
      "text/plain": [
       "85.80546336482001"
      ]
     },
     "execution_count": 10,
     "metadata": {},
     "output_type": "execute_result"
    }
   ],
   "source": [
    "# Calculate the percentage of students who passed reading (hint: look at how the math percentage was calculated)  \n",
    "passing_reading_count = school_data_complete[(school_data_complete[\"reading_score\"]>= 70)].count()[\"student_name\"]\n",
    "passing_reading_percentage =  passing_reading_count / float(student_count) * 100\n",
    "passing_reading_percentage "
   ]
  },
  {
   "cell_type": "code",
   "execution_count": 11,
   "metadata": {},
   "outputs": [
    {
     "data": {
      "text/plain": [
       "65.17232575950983"
      ]
     },
     "execution_count": 11,
     "metadata": {},
     "output_type": "execute_result"
    }
   ],
   "source": [
    "# Use the following to calculate the percentage of students that passed math and reading\n",
    "passing_math_reading_count = school_data_complete[\n",
    "    (school_data_complete[\"math_score\"] >= 70) & (school_data_complete[\"reading_score\"] >= 70)\n",
    "].count()[\"student_name\"]\n",
    "overall_passing_rate = passing_math_reading_count /  float(student_count) * 100\n",
    "overall_passing_rate"
   ]
  },
  {
   "cell_type": "code",
   "execution_count": 12,
   "metadata": {},
   "outputs": [
    {
     "data": {
      "text/html": [
       "<div>\n",
       "<style scoped>\n",
       "    .dataframe tbody tr th:only-of-type {\n",
       "        vertical-align: middle;\n",
       "    }\n",
       "\n",
       "    .dataframe tbody tr th {\n",
       "        vertical-align: top;\n",
       "    }\n",
       "\n",
       "    .dataframe thead th {\n",
       "        text-align: right;\n",
       "    }\n",
       "</style>\n",
       "<table border=\"1\" class=\"dataframe\">\n",
       "  <thead>\n",
       "    <tr style=\"text-align: right;\">\n",
       "      <th></th>\n",
       "      <th>Total Schools</th>\n",
       "      <th>Total Students</th>\n",
       "      <th>Total Budget</th>\n",
       "      <th>Average Math Score</th>\n",
       "      <th>Average Reading Score</th>\n",
       "      <th>% Passing Math</th>\n",
       "      <th>% Passing Reading</th>\n",
       "      <th>% Overall Passing</th>\n",
       "    </tr>\n",
       "  </thead>\n",
       "  <tbody>\n",
       "    <tr>\n",
       "      <th>0</th>\n",
       "      <td>15</td>\n",
       "      <td>Student ID       student_name gender gr...</td>\n",
       "      <td>24649428</td>\n",
       "      <td>78.985371</td>\n",
       "      <td>81.87784</td>\n",
       "      <td>74.980853</td>\n",
       "      <td>85.805463</td>\n",
       "      <td>65.172326</td>\n",
       "    </tr>\n",
       "  </tbody>\n",
       "</table>\n",
       "</div>"
      ],
      "text/plain": [
       "   Total Schools                                     Total Students  \\\n",
       "0             15         Student ID       student_name gender gr...   \n",
       "\n",
       "   Total Budget  Average Math Score  Average Reading Score  % Passing Math  \\\n",
       "0      24649428           78.985371               81.87784       74.980853   \n",
       "\n",
       "   % Passing Reading  % Overall Passing  \n",
       "0          85.805463          65.172326  "
      ]
     },
     "execution_count": 12,
     "metadata": {},
     "output_type": "execute_result"
    }
   ],
   "source": [
    "# Create a high-level snapshot of the district's key metrics in a DataFrame\n",
    "district_summary = pd.DataFrame({\n",
    "    'Total Schools': [school_count],\n",
    "    'Total Students': [student_data],\n",
    "    'Total Budget': [total_budget],\n",
    "    'Average Math Score': [average_math_score],\n",
    "    'Average Reading Score': [average_reading_score],\n",
    "    '% Passing Math': [passing_math_percentage],\n",
    "    '% Passing Reading': [passing_reading_percentage],\n",
    "    '% Overall Passing': [overall_passing_rate]\n",
    "})\n",
    "\n",
    "\n",
    "# Display the DataFrame\n",
    "district_summary"
   ]
  },
  {
   "cell_type": "markdown",
   "metadata": {},
   "source": [
    "## School Summary"
   ]
  },
  {
   "cell_type": "code",
   "execution_count": 13,
   "metadata": {},
   "outputs": [],
   "source": [
    "school_summary = school_data_complete.groupby(['school_name'])\n",
    "school_names = school_data_complete.school_name.sort_values().unique()\n",
    "\n",
    "school_types =  school_data.set_index([\"school_name\"]).sort_values(by=\"school_name\").type\n",
    "\n",
    "# Use the code provided to select all of the school types\n",
    "per_school_types = school_data.set_index([\"school_name\"])[\"type\"]"
   ]
  },
  {
   "cell_type": "code",
   "execution_count": 14,
   "metadata": {},
   "outputs": [],
   "source": [
    "# Calculate the total student count per school\n",
    "per_school_counts = school_data_complete[\"school_name\"].value_counts()"
   ]
  },
  {
   "cell_type": "code",
   "execution_count": 15,
   "metadata": {},
   "outputs": [],
   "source": [
    "# Calculate the total school budget and per capita spending per school\n",
    "per_school_budget = list(school_summary.budget.mean())\n",
    "per_student_budget = per_school_budget / per_school_counts"
   ]
  },
  {
   "cell_type": "code",
   "execution_count": 16,
   "metadata": {},
   "outputs": [],
   "source": [
    "# Calculate the average test scores per school\n",
    "per_school_math = list(school_summary.math_score.mean())\n",
    "per_school_reading = list(school_summary.reading_score.mean())"
   ]
  },
  {
   "cell_type": "code",
   "execution_count": 17,
   "metadata": {},
   "outputs": [],
   "source": [
    "# Calculate the number of students per school with math scores of 70 or higher\n",
    "students_passing_math = school_data_complete[(school_data_complete[\"math_score\"] >= 70)]\n",
    "school_students_passing_math = students_passing_math[\"math_score\"].count()"
   ]
  },
  {
   "cell_type": "code",
   "execution_count": 18,
   "metadata": {},
   "outputs": [],
   "source": [
    "# Calculate the number of students per school with math scores of 70 or higher\n",
    "students_passing_math = school_data_complete[(school_data_complete[\"math_score\"] >= 70)]\n",
    "school_students_passing_math = students_passing_math[\"math_score\"].count()"
   ]
  },
  {
   "cell_type": "code",
   "execution_count": 19,
   "metadata": {},
   "outputs": [],
   "source": [
    "# Calculate the number of students per school with reading scores of 70 or higher\n",
    "students_passing_reading = school_data_complete[(school_data_complete[\"reading_score\"] >= 70)]\n",
    "school_students_passing_reading = students_passing_reading[\"reading_score\"].count()"
   ]
  },
  {
   "cell_type": "code",
   "execution_count": 20,
   "metadata": {},
   "outputs": [],
   "source": [
    "# Use the provided code to calculate the number of students per school that passed both math and reading with scores of 70 or higher\n",
    "students_passing_math_and_reading = school_data_complete[\n",
    "    (school_data_complete[\"reading_score\"] >= 70) & (school_data_complete[\"math_score\"] >= 70)\n",
    "]\n",
    "school_students_passing_math_and_reading = students_passing_math_and_reading.groupby([\"school_name\"]).size()"
   ]
  },
  {
   "cell_type": "code",
   "execution_count": 21,
   "metadata": {},
   "outputs": [],
   "source": [
    "# Use the provided code to calculate the passing rates\n",
    "per_school_passing_math = school_students_passing_math / per_school_counts * 100\n",
    "per_school_passing_reading = school_students_passing_reading / per_school_counts * 100\n",
    "overall_passing_rate = school_students_passing_math_and_reading / per_school_counts * 100"
   ]
  },
  {
   "cell_type": "code",
   "execution_count": 22,
   "metadata": {},
   "outputs": [
    {
     "data": {
      "text/html": [
       "<div>\n",
       "<style scoped>\n",
       "    .dataframe tbody tr th:only-of-type {\n",
       "        vertical-align: middle;\n",
       "    }\n",
       "\n",
       "    .dataframe tbody tr th {\n",
       "        vertical-align: top;\n",
       "    }\n",
       "\n",
       "    .dataframe thead th {\n",
       "        text-align: right;\n",
       "    }\n",
       "</style>\n",
       "<table border=\"1\" class=\"dataframe\">\n",
       "  <thead>\n",
       "    <tr style=\"text-align: right;\">\n",
       "      <th></th>\n",
       "      <th>School Names</th>\n",
       "      <th>School Type</th>\n",
       "      <th>Total Students</th>\n",
       "      <th>Total School Budget</th>\n",
       "      <th>Per Student Budget</th>\n",
       "      <th>Average Math Score</th>\n",
       "      <th>Average Reading Score</th>\n",
       "      <th>% Passing Math</th>\n",
       "      <th>% Passing Reading</th>\n",
       "      <th>Overall Passing Rate</th>\n",
       "    </tr>\n",
       "  </thead>\n",
       "  <tbody>\n",
       "    <tr>\n",
       "      <th>0</th>\n",
       "      <td>Bailey High School</td>\n",
       "      <td>District</td>\n",
       "      <td>4976</td>\n",
       "      <td>3124928.0</td>\n",
       "      <td>628.000000</td>\n",
       "      <td>77.048432</td>\n",
       "      <td>81.033963</td>\n",
       "      <td>29370</td>\n",
       "      <td>33610</td>\n",
       "      <td>54.642283</td>\n",
       "    </tr>\n",
       "    <tr>\n",
       "      <th>1</th>\n",
       "      <td>Cabrera High School</td>\n",
       "      <td>Charter</td>\n",
       "      <td>1858</td>\n",
       "      <td>1081356.0</td>\n",
       "      <td>1665.581270</td>\n",
       "      <td>83.061895</td>\n",
       "      <td>83.975780</td>\n",
       "      <td>29370</td>\n",
       "      <td>33610</td>\n",
       "      <td>91.334769</td>\n",
       "    </tr>\n",
       "    <tr>\n",
       "      <th>2</th>\n",
       "      <td>Figueroa High School</td>\n",
       "      <td>District</td>\n",
       "      <td>2949</td>\n",
       "      <td>1884411.0</td>\n",
       "      <td>311.122414</td>\n",
       "      <td>76.711767</td>\n",
       "      <td>81.158020</td>\n",
       "      <td>29370</td>\n",
       "      <td>33610</td>\n",
       "      <td>53.204476</td>\n",
       "    </tr>\n",
       "    <tr>\n",
       "      <th>3</th>\n",
       "      <td>Ford High School</td>\n",
       "      <td>District</td>\n",
       "      <td>2739</td>\n",
       "      <td>1763916.0</td>\n",
       "      <td>90.575758</td>\n",
       "      <td>77.102592</td>\n",
       "      <td>80.746258</td>\n",
       "      <td>29370</td>\n",
       "      <td>33610</td>\n",
       "      <td>54.289887</td>\n",
       "    </tr>\n",
       "    <tr>\n",
       "      <th>4</th>\n",
       "      <td>Griffin High School</td>\n",
       "      <td>Charter</td>\n",
       "      <td>1468</td>\n",
       "      <td>917500.0</td>\n",
       "      <td>710.579019</td>\n",
       "      <td>83.351499</td>\n",
       "      <td>83.816757</td>\n",
       "      <td>29370</td>\n",
       "      <td>33610</td>\n",
       "      <td>90.599455</td>\n",
       "    </tr>\n",
       "    <tr>\n",
       "      <th>5</th>\n",
       "      <td>Hernandez High School</td>\n",
       "      <td>District</td>\n",
       "      <td>4635</td>\n",
       "      <td>3022020.0</td>\n",
       "      <td>406.561165</td>\n",
       "      <td>77.289752</td>\n",
       "      <td>80.934412</td>\n",
       "      <td>29370</td>\n",
       "      <td>33610</td>\n",
       "      <td>53.527508</td>\n",
       "    </tr>\n",
       "    <tr>\n",
       "      <th>6</th>\n",
       "      <td>Holden High School</td>\n",
       "      <td>Charter</td>\n",
       "      <td>427</td>\n",
       "      <td>248087.0</td>\n",
       "      <td>2457.611241</td>\n",
       "      <td>83.803279</td>\n",
       "      <td>83.814988</td>\n",
       "      <td>29370</td>\n",
       "      <td>33610</td>\n",
       "      <td>89.227166</td>\n",
       "    </tr>\n",
       "    <tr>\n",
       "      <th>7</th>\n",
       "      <td>Huang High School</td>\n",
       "      <td>District</td>\n",
       "      <td>2917</td>\n",
       "      <td>1910635.0</td>\n",
       "      <td>1036.002743</td>\n",
       "      <td>76.629414</td>\n",
       "      <td>81.182722</td>\n",
       "      <td>29370</td>\n",
       "      <td>33610</td>\n",
       "      <td>53.513884</td>\n",
       "    </tr>\n",
       "    <tr>\n",
       "      <th>8</th>\n",
       "      <td>Johnson High School</td>\n",
       "      <td>District</td>\n",
       "      <td>4761</td>\n",
       "      <td>3094650.0</td>\n",
       "      <td>227.127914</td>\n",
       "      <td>77.072464</td>\n",
       "      <td>80.966394</td>\n",
       "      <td>29370</td>\n",
       "      <td>33610</td>\n",
       "      <td>53.539172</td>\n",
       "    </tr>\n",
       "    <tr>\n",
       "      <th>9</th>\n",
       "      <td>Pena High School</td>\n",
       "      <td>Charter</td>\n",
       "      <td>962</td>\n",
       "      <td>585858.0</td>\n",
       "      <td>1371.698545</td>\n",
       "      <td>83.839917</td>\n",
       "      <td>84.044699</td>\n",
       "      <td>29370</td>\n",
       "      <td>33610</td>\n",
       "      <td>90.540541</td>\n",
       "    </tr>\n",
       "    <tr>\n",
       "      <th>10</th>\n",
       "      <td>Rodriguez High School</td>\n",
       "      <td>District</td>\n",
       "      <td>3999</td>\n",
       "      <td>2547363.0</td>\n",
       "      <td>441.089272</td>\n",
       "      <td>76.842711</td>\n",
       "      <td>80.744686</td>\n",
       "      <td>29370</td>\n",
       "      <td>33610</td>\n",
       "      <td>52.988247</td>\n",
       "    </tr>\n",
       "    <tr>\n",
       "      <th>11</th>\n",
       "      <td>Shelton High School</td>\n",
       "      <td>Charter</td>\n",
       "      <td>1761</td>\n",
       "      <td>1056600.0</td>\n",
       "      <td>1446.543441</td>\n",
       "      <td>83.359455</td>\n",
       "      <td>83.725724</td>\n",
       "      <td>29370</td>\n",
       "      <td>33610</td>\n",
       "      <td>89.892107</td>\n",
       "    </tr>\n",
       "    <tr>\n",
       "      <th>12</th>\n",
       "      <td>Thomas High School</td>\n",
       "      <td>Charter</td>\n",
       "      <td>1635</td>\n",
       "      <td>1043130.0</td>\n",
       "      <td>646.238532</td>\n",
       "      <td>83.418349</td>\n",
       "      <td>83.848930</td>\n",
       "      <td>29370</td>\n",
       "      <td>33610</td>\n",
       "      <td>90.948012</td>\n",
       "    </tr>\n",
       "    <tr>\n",
       "      <th>13</th>\n",
       "      <td>Wilson High School</td>\n",
       "      <td>Charter</td>\n",
       "      <td>2283</td>\n",
       "      <td>1319574.0</td>\n",
       "      <td>836.896627</td>\n",
       "      <td>83.274201</td>\n",
       "      <td>83.989488</td>\n",
       "      <td>29370</td>\n",
       "      <td>33610</td>\n",
       "      <td>90.582567</td>\n",
       "    </tr>\n",
       "    <tr>\n",
       "      <th>14</th>\n",
       "      <td>Wright High School</td>\n",
       "      <td>Charter</td>\n",
       "      <td>1800</td>\n",
       "      <td>1049400.0</td>\n",
       "      <td>325.476667</td>\n",
       "      <td>83.682222</td>\n",
       "      <td>83.955000</td>\n",
       "      <td>29370</td>\n",
       "      <td>33610</td>\n",
       "      <td>90.333333</td>\n",
       "    </tr>\n",
       "  </tbody>\n",
       "</table>\n",
       "</div>"
      ],
      "text/plain": [
       "             School Names School Type  Total Students  Total School Budget  \\\n",
       "0      Bailey High School    District            4976            3124928.0   \n",
       "1     Cabrera High School     Charter            1858            1081356.0   \n",
       "2    Figueroa High School    District            2949            1884411.0   \n",
       "3        Ford High School    District            2739            1763916.0   \n",
       "4     Griffin High School     Charter            1468             917500.0   \n",
       "5   Hernandez High School    District            4635            3022020.0   \n",
       "6      Holden High School     Charter             427             248087.0   \n",
       "7       Huang High School    District            2917            1910635.0   \n",
       "8     Johnson High School    District            4761            3094650.0   \n",
       "9        Pena High School     Charter             962             585858.0   \n",
       "10  Rodriguez High School    District            3999            2547363.0   \n",
       "11    Shelton High School     Charter            1761            1056600.0   \n",
       "12     Thomas High School     Charter            1635            1043130.0   \n",
       "13     Wilson High School     Charter            2283            1319574.0   \n",
       "14     Wright High School     Charter            1800            1049400.0   \n",
       "\n",
       "    Per Student Budget  Average Math Score  Average Reading Score  \\\n",
       "0           628.000000           77.048432              81.033963   \n",
       "1          1665.581270           83.061895              83.975780   \n",
       "2           311.122414           76.711767              81.158020   \n",
       "3            90.575758           77.102592              80.746258   \n",
       "4           710.579019           83.351499              83.816757   \n",
       "5           406.561165           77.289752              80.934412   \n",
       "6          2457.611241           83.803279              83.814988   \n",
       "7          1036.002743           76.629414              81.182722   \n",
       "8           227.127914           77.072464              80.966394   \n",
       "9          1371.698545           83.839917              84.044699   \n",
       "10          441.089272           76.842711              80.744686   \n",
       "11         1446.543441           83.359455              83.725724   \n",
       "12          646.238532           83.418349              83.848930   \n",
       "13          836.896627           83.274201              83.989488   \n",
       "14          325.476667           83.682222              83.955000   \n",
       "\n",
       "    % Passing Math  % Passing Reading  Overall Passing Rate  \n",
       "0            29370              33610             54.642283  \n",
       "1            29370              33610             91.334769  \n",
       "2            29370              33610             53.204476  \n",
       "3            29370              33610             54.289887  \n",
       "4            29370              33610             90.599455  \n",
       "5            29370              33610             53.527508  \n",
       "6            29370              33610             89.227166  \n",
       "7            29370              33610             53.513884  \n",
       "8            29370              33610             53.539172  \n",
       "9            29370              33610             90.540541  \n",
       "10           29370              33610             52.988247  \n",
       "11           29370              33610             89.892107  \n",
       "12           29370              33610             90.948012  \n",
       "13           29370              33610             90.582567  \n",
       "14           29370              33610             90.333333  "
      ]
     },
     "execution_count": 22,
     "metadata": {},
     "output_type": "execute_result"
    }
   ],
   "source": [
    "# Create a DataFrame called `per_school_summary` with columns for the calculations above.\n",
    "\n",
    "school_summary_df = pd.DataFrame({\"School Names\":school_names,\n",
    "                                  \"School Type\":school_types,\n",
    "                                  \"Total Students\":per_school_counts,\n",
    "                                  \"Total School Budget\":per_school_budget,\n",
    "                                  \"Per Student Budget\":per_student_budget,\n",
    "                                  \"Average Math Score\":per_school_math,\n",
    "                                  \"Average Reading Score\":per_school_reading,\n",
    "                                  \"% Passing Math\":school_students_passing_math,\n",
    "                                  \"% Passing Reading\":school_students_passing_reading,\n",
    "                                  \"Overall Passing Rate\":overall_passing_rate})\n",
    "\n",
    "school_summary_df = school_summary_df.reset_index(drop=True)\n",
    "school_summary_df"
   ]
  },
  {
   "cell_type": "markdown",
   "metadata": {},
   "source": [
    "## Highest-Performing Schools (by % Overall Passing)"
   ]
  },
  {
   "cell_type": "code",
   "execution_count": 23,
   "metadata": {
    "scrolled": true
   },
   "outputs": [
    {
     "data": {
      "text/html": [
       "<div>\n",
       "<style scoped>\n",
       "    .dataframe tbody tr th:only-of-type {\n",
       "        vertical-align: middle;\n",
       "    }\n",
       "\n",
       "    .dataframe tbody tr th {\n",
       "        vertical-align: top;\n",
       "    }\n",
       "\n",
       "    .dataframe thead th {\n",
       "        text-align: right;\n",
       "    }\n",
       "</style>\n",
       "<table border=\"1\" class=\"dataframe\">\n",
       "  <thead>\n",
       "    <tr style=\"text-align: right;\">\n",
       "      <th></th>\n",
       "      <th>School Names</th>\n",
       "      <th>School Type</th>\n",
       "      <th>Total Students</th>\n",
       "      <th>Total School Budget</th>\n",
       "      <th>Per Student Budget</th>\n",
       "      <th>Average Math Score</th>\n",
       "      <th>Average Reading Score</th>\n",
       "      <th>% Passing Math</th>\n",
       "      <th>% Passing Reading</th>\n",
       "      <th>Overall Passing Rate</th>\n",
       "    </tr>\n",
       "  </thead>\n",
       "  <tbody>\n",
       "    <tr>\n",
       "      <th>0</th>\n",
       "      <td>Cabrera High School</td>\n",
       "      <td>Charter</td>\n",
       "      <td>1858</td>\n",
       "      <td>1081356.0</td>\n",
       "      <td>1665.581270</td>\n",
       "      <td>83.061895</td>\n",
       "      <td>83.975780</td>\n",
       "      <td>29370</td>\n",
       "      <td>33610</td>\n",
       "      <td>91.334769</td>\n",
       "    </tr>\n",
       "    <tr>\n",
       "      <th>1</th>\n",
       "      <td>Thomas High School</td>\n",
       "      <td>Charter</td>\n",
       "      <td>1635</td>\n",
       "      <td>1043130.0</td>\n",
       "      <td>646.238532</td>\n",
       "      <td>83.418349</td>\n",
       "      <td>83.848930</td>\n",
       "      <td>29370</td>\n",
       "      <td>33610</td>\n",
       "      <td>90.948012</td>\n",
       "    </tr>\n",
       "    <tr>\n",
       "      <th>2</th>\n",
       "      <td>Griffin High School</td>\n",
       "      <td>Charter</td>\n",
       "      <td>1468</td>\n",
       "      <td>917500.0</td>\n",
       "      <td>710.579019</td>\n",
       "      <td>83.351499</td>\n",
       "      <td>83.816757</td>\n",
       "      <td>29370</td>\n",
       "      <td>33610</td>\n",
       "      <td>90.599455</td>\n",
       "    </tr>\n",
       "    <tr>\n",
       "      <th>3</th>\n",
       "      <td>Wilson High School</td>\n",
       "      <td>Charter</td>\n",
       "      <td>2283</td>\n",
       "      <td>1319574.0</td>\n",
       "      <td>836.896627</td>\n",
       "      <td>83.274201</td>\n",
       "      <td>83.989488</td>\n",
       "      <td>29370</td>\n",
       "      <td>33610</td>\n",
       "      <td>90.582567</td>\n",
       "    </tr>\n",
       "    <tr>\n",
       "      <th>4</th>\n",
       "      <td>Pena High School</td>\n",
       "      <td>Charter</td>\n",
       "      <td>962</td>\n",
       "      <td>585858.0</td>\n",
       "      <td>1371.698545</td>\n",
       "      <td>83.839917</td>\n",
       "      <td>84.044699</td>\n",
       "      <td>29370</td>\n",
       "      <td>33610</td>\n",
       "      <td>90.540541</td>\n",
       "    </tr>\n",
       "  </tbody>\n",
       "</table>\n",
       "</div>"
      ],
      "text/plain": [
       "          School Names School Type  Total Students  Total School Budget  \\\n",
       "0  Cabrera High School     Charter            1858            1081356.0   \n",
       "1   Thomas High School     Charter            1635            1043130.0   \n",
       "2  Griffin High School     Charter            1468             917500.0   \n",
       "3   Wilson High School     Charter            2283            1319574.0   \n",
       "4     Pena High School     Charter             962             585858.0   \n",
       "\n",
       "   Per Student Budget  Average Math Score  Average Reading Score  \\\n",
       "0         1665.581270           83.061895              83.975780   \n",
       "1          646.238532           83.418349              83.848930   \n",
       "2          710.579019           83.351499              83.816757   \n",
       "3          836.896627           83.274201              83.989488   \n",
       "4         1371.698545           83.839917              84.044699   \n",
       "\n",
       "   % Passing Math  % Passing Reading  Overall Passing Rate  \n",
       "0           29370              33610             91.334769  \n",
       "1           29370              33610             90.948012  \n",
       "2           29370              33610             90.599455  \n",
       "3           29370              33610             90.582567  \n",
       "4           29370              33610             90.540541  "
      ]
     },
     "execution_count": 23,
     "metadata": {},
     "output_type": "execute_result"
    }
   ],
   "source": [
    "# Sort the schools by `% Overall Passing` in descending order and display the top 5 rows.\n",
    "top_5_schools = school_summary_df.sort_values(by='Overall Passing Rate', ascending=False).head(5).reset_index(drop=True)\n",
    "top_5_schools"
   ]
  },
  {
   "cell_type": "markdown",
   "metadata": {},
   "source": [
    "## Bottom Performing Schools (By % Overall Passing)"
   ]
  },
  {
   "cell_type": "code",
   "execution_count": 24,
   "metadata": {},
   "outputs": [
    {
     "data": {
      "text/html": [
       "<div>\n",
       "<style scoped>\n",
       "    .dataframe tbody tr th:only-of-type {\n",
       "        vertical-align: middle;\n",
       "    }\n",
       "\n",
       "    .dataframe tbody tr th {\n",
       "        vertical-align: top;\n",
       "    }\n",
       "\n",
       "    .dataframe thead th {\n",
       "        text-align: right;\n",
       "    }\n",
       "</style>\n",
       "<table border=\"1\" class=\"dataframe\">\n",
       "  <thead>\n",
       "    <tr style=\"text-align: right;\">\n",
       "      <th></th>\n",
       "      <th>School Names</th>\n",
       "      <th>School Type</th>\n",
       "      <th>Total Students</th>\n",
       "      <th>Total School Budget</th>\n",
       "      <th>Per Student Budget</th>\n",
       "      <th>Average Math Score</th>\n",
       "      <th>Average Reading Score</th>\n",
       "      <th>% Passing Math</th>\n",
       "      <th>% Passing Reading</th>\n",
       "      <th>Overall Passing Rate</th>\n",
       "    </tr>\n",
       "  </thead>\n",
       "  <tbody>\n",
       "    <tr>\n",
       "      <th>0</th>\n",
       "      <td>Rodriguez High School</td>\n",
       "      <td>District</td>\n",
       "      <td>3999</td>\n",
       "      <td>2547363.0</td>\n",
       "      <td>441.089272</td>\n",
       "      <td>76.842711</td>\n",
       "      <td>80.744686</td>\n",
       "      <td>29370</td>\n",
       "      <td>33610</td>\n",
       "      <td>52.988247</td>\n",
       "    </tr>\n",
       "    <tr>\n",
       "      <th>1</th>\n",
       "      <td>Figueroa High School</td>\n",
       "      <td>District</td>\n",
       "      <td>2949</td>\n",
       "      <td>1884411.0</td>\n",
       "      <td>311.122414</td>\n",
       "      <td>76.711767</td>\n",
       "      <td>81.158020</td>\n",
       "      <td>29370</td>\n",
       "      <td>33610</td>\n",
       "      <td>53.204476</td>\n",
       "    </tr>\n",
       "    <tr>\n",
       "      <th>2</th>\n",
       "      <td>Huang High School</td>\n",
       "      <td>District</td>\n",
       "      <td>2917</td>\n",
       "      <td>1910635.0</td>\n",
       "      <td>1036.002743</td>\n",
       "      <td>76.629414</td>\n",
       "      <td>81.182722</td>\n",
       "      <td>29370</td>\n",
       "      <td>33610</td>\n",
       "      <td>53.513884</td>\n",
       "    </tr>\n",
       "    <tr>\n",
       "      <th>3</th>\n",
       "      <td>Hernandez High School</td>\n",
       "      <td>District</td>\n",
       "      <td>4635</td>\n",
       "      <td>3022020.0</td>\n",
       "      <td>406.561165</td>\n",
       "      <td>77.289752</td>\n",
       "      <td>80.934412</td>\n",
       "      <td>29370</td>\n",
       "      <td>33610</td>\n",
       "      <td>53.527508</td>\n",
       "    </tr>\n",
       "    <tr>\n",
       "      <th>4</th>\n",
       "      <td>Johnson High School</td>\n",
       "      <td>District</td>\n",
       "      <td>4761</td>\n",
       "      <td>3094650.0</td>\n",
       "      <td>227.127914</td>\n",
       "      <td>77.072464</td>\n",
       "      <td>80.966394</td>\n",
       "      <td>29370</td>\n",
       "      <td>33610</td>\n",
       "      <td>53.539172</td>\n",
       "    </tr>\n",
       "  </tbody>\n",
       "</table>\n",
       "</div>"
      ],
      "text/plain": [
       "            School Names School Type  Total Students  Total School Budget  \\\n",
       "0  Rodriguez High School    District            3999            2547363.0   \n",
       "1   Figueroa High School    District            2949            1884411.0   \n",
       "2      Huang High School    District            2917            1910635.0   \n",
       "3  Hernandez High School    District            4635            3022020.0   \n",
       "4    Johnson High School    District            4761            3094650.0   \n",
       "\n",
       "   Per Student Budget  Average Math Score  Average Reading Score  \\\n",
       "0          441.089272           76.842711              80.744686   \n",
       "1          311.122414           76.711767              81.158020   \n",
       "2         1036.002743           76.629414              81.182722   \n",
       "3          406.561165           77.289752              80.934412   \n",
       "4          227.127914           77.072464              80.966394   \n",
       "\n",
       "   % Passing Math  % Passing Reading  Overall Passing Rate  \n",
       "0           29370              33610             52.988247  \n",
       "1           29370              33610             53.204476  \n",
       "2           29370              33610             53.513884  \n",
       "3           29370              33610             53.527508  \n",
       "4           29370              33610             53.539172  "
      ]
     },
     "execution_count": 24,
     "metadata": {},
     "output_type": "execute_result"
    }
   ],
   "source": [
    "# Sort the schools by `% Overall Passing` in ascending order and display the top 5 rows.\n",
    "bottom_5_schools = school_summary_df.sort_values(by='Overall Passing Rate', ascending=True).head(5).reset_index(drop=True)\n",
    "bottom_5_schools.tail(5)"
   ]
  },
  {
   "cell_type": "markdown",
   "metadata": {},
   "source": [
    "## Math Scores by Grade"
   ]
  },
  {
   "cell_type": "code",
   "execution_count": null,
   "metadata": {},
   "outputs": [],
   "source": []
  },
  {
   "cell_type": "code",
   "execution_count": 25,
   "metadata": {},
   "outputs": [],
   "source": [
    "# Use the code provided to separate the data by grade\n",
    "ninth_graders = school_data_complete[(school_data_complete[\"grade\"] == \"9th\")]\n",
    "tenth_graders = school_data_complete[(school_data_complete[\"grade\"] == \"10th\")]\n",
    "eleventh_graders = school_data_complete[(school_data_complete[\"grade\"] == \"11th\")]\n",
    "twelfth_graders = school_data_complete[(school_data_complete[\"grade\"] == \"12th\")]\n"
   ]
  },
  {
   "cell_type": "code",
   "execution_count": 26,
   "metadata": {},
   "outputs": [
    {
     "ename": "TypeError",
     "evalue": "Could not convert Blake MartinFrank MarshCharles Goodman Jr.Aaron MoyerMichael DeanRobin VegaKenneth JuarezGerald SmithDavid HernandezMatthew SinghJeremiah WhiteLisa AguilarDanielle HarrisKristin JohnsonKevin MartinAnna MyersTimothy HigginsAnthony FordNicole RoseChristopher LongMr. Michael AllenCasey JonesJoseph KellyDebra BrownJacqueline SheaSara MurphyNatalie GrantPeter MillerDavid CannonValerie MayApril FisherBradley HunterJohn WilliamsonAnthony SpencerJoseph AllenAngela WallJames FerrellRobert RodriguezDarius WilliamsBrian TrevinoAndrea GreenAustin JohnstonGuy ThomasDesiree GordonScott ClarkLinda SinghWilliam PerryTerry SantanaApril StevensAnthony TorresWayne GuerreroMonique CarterChristine LeeJay SmithRobert ReyesRichard MacdonaldJonathan TuckerChelsea KempMelissa BowmanWilliam SimpsonAmanda DavisBrandon MedinaPatricia WilliamsJeremy CharlesTyler GonzalezKristen GreenRichard WallerLaura LindseyMark AlvarezMatthew ThomasHeather GouldJacqueline SnowApril Calderon MDMichael WaltersErin HaleMichael AndersonPeggy BautistaGina BarberDavid HarrisNathan JonesAdam CruzPeter GonzalezBarbara RobinsonSteven WongAdam HerringPatricia MillerJim StevensJordan MclaughlinVincent MartinTracey BensonNatasha EverettErin ParksStephen ThompsonDaniel KingBenjamin MurrayKristen SmithJohn CarrilloMark BrowningEric Park DDSBrian MosleyPatricia MarshJennifer AndersonDanielle HoodMatthew CarterStephanie ThomasCathy MercadoSheila LewisPatrick Barker PhDAna BurnsChloe DownsJoshua FloresBianca BoyerWilliam ThompsonJonathan LongSamantha PattersonEmily PowellLouis WatersNathan DominguezKristin KellerJordan StewartBrian DunnEmily MartinJamie MillerNathan AtkinsonKelly MartinezCarlos RamirezAllen Morris Jr.Sarah RobertsPatricia HoBreanna MorrisEmily TurnerAlyssa RodriguezRichard JohnsonMary GreenMegan MillerWanda BaileyRenee RodriguezJeffrey PayneKari CharlesKelly HarmonShannon WeaverPatty NelsonAndrea JonesDale WhitakerKatherine DeanBrittney HenryAaron RodriguezDr. Carl JamesWilliam FrancisDanielle DyerMichael WagnerAmanda RogersPatricia JonesVictor MartinDr. Kimberly BenjaminMichelle BeckerJoseph NunezKeith AlvarezRicardo VazquezMatthew HawkinsNicole SmithSarah HodgeAmber BlevinsBenjamin BatesThomas MarshallAnna JohnsonRyan Graham MDTerri MillerTaylor DominguezLisa HarrisMichael RobinsonMelissa KellyChase RayTracy RodriguezYvonne WareJake MilesChristopher MyersCindy MurphyDylan JohnsonFrank NewmanLisa MyersKristine KellyMelissa AndersonMarissa BlevinsJason HallJoseph HernandezWanda MaddoxArthur KochNicholas DanielJerry RichardsJoel PittsThomas HerreraJennifer CarlsonJorge McdonaldStephanie Howard MDAlyssa WilliamsonPedro LongJames SmithGregory HerringDaniel BarrettTravis ComptonDaniel RowlandJonathon WillisAdam RodriguezDominique LloydJoyce RobertsJon GriffinJoseph ForbesDustin MarquezSean WellsDeanna CombsDanielle HayesKrystal ReynoldsCarl MartinezBrandon PopeAmanda RodriguezMarco WilliamsErica CollinsPenny NguyenLori LeeLori SmithBryan MooreJaclyn CobbVeronica DiazBarbara LarsenSteven HartmanMegan VillaAlex ConnerDanielle HurleyJames CalhounRyan GreenVeronica GomezWilliam SwansonLauren WestJohn BrownTonya SaundersDavid ThomasCrystal EdwardsCathy RamosChris RobertsKatherine TuckerJustin HillSarah AllenJessica BauerJames RodgersJacqueline EwingJacob ThomasNatalie JohnstonFelicia MatthewsRobert LawrenceJoshua MorganSierra JohnsonTravis HeathMelanie AndersonKenneth GarciaMaria BrockAdam PattonMatthew MezaAmanda JohnsonJesse HernandezPenny DeckerBobby WilliamsMargaret HortonRonnie BarrettAllen OnealGerald LangWilliam HudsonDerek SilvaDarlene LeeHarold JohnstonDonna ReedWanda PhillipsMegan JonesTheresa ShieldsMark LeeErica BakerVirginia BallardAaron AtkinsonBianca Huynh MDDaniel PhillipsThomas JohnsonNicole LopezAdam LambMonica RobersonDouglas RodriguezSarah OrtizDeanna MendozaMelissa Dunn MDLauren KochWilliam FrenchJared WashingtonJames JacksonMelissa SandovalMr. Angel JohnsonChad EvansDonald MyersNicole JohnsonWendy RiveraWilliam PinedaRebecca StoutDerek DiazTravis WebbShane PerezJasmine CampbellMason RaymondVincent EllisJoseph McgeeKatelyn DayAmy BeckerKenneth HughesKimberly FrazierMichael Garcia Jr.April HallJessica MatthewsMr. Daniel Nguyen DDSChristopher KelleyHeather WeaverTaylor GambleSteven BaileyRichard HernandezNancy McclurePaul ClarkeEric ArnoldElizabeth MeyerKaitlin BarrettAnthony PatelApril GillespieJohn SnyderRoy DeckerMatthew JonesKenneth MartinezKevin BrowningChristine IbarraMelissa BrownMichael PerezNorman BurnsJames MarshallTaylor CohenAlejandro CarterAllison GardnerEmily CollierDebbie Brown DVMAmy ShawTaylor MedinaLisa RichardsDana CruzJustin HenryRobert WeberTamara MooreKim StewartAdriana SmithJoshua Kim DDSCarol JohnsonMr. Jesse BellEmily WarrenAlexandra HendricksJulie MoralesJason JohnsonLisa JonesMonica SmithEric EdwardsMichael BurnettDerek MayPaul WoodMiguel JohnsonDouglas HardyKaitlyn ChambersCarlos YoungLindsay LinPhillip WashingtonAlexis MatthewsAndrew ThomasDerek Barker Jr.Jeremy WoodAndrew JimenezJennifer ButlerMrs. Renee GordonMichelle MurrayJennifer StoneDavid KirbySheila YoungHeather WatsonRobert RossKristen LunaDawn MartinezSavannah RamseyWilliam SalasHolly MooreJason CarterRyan SmithBrett EricksonChristina AyalaJames GarciaConnor CobbCrystal BuchananSherri PadillaJustin PowellVanessa TuckerTyler HarperRobert GreerBarry HallMargaret LeeDavid DiazRenee MonroeKristen MitchellSamantha MartinJessica FarmerCarlos BrownMiguel MaciasAlejandra WilliamsonMary GriffinMatthew GrantAnnette RossCarolyn MillerErica MillerMark MclaughlinJamie GibsonMatthew RiggsBetty IrwinFrederick LeeHelen GayCourtney ThompsonDiana ChapmanKenneth DiazKenneth HartmanRachel LopezCassandra BaldwinJose ButlerJohn LoveMrs. Amanda MartinMichael MooreJohn VaughnRebecca ChungDaniel HartMackenzie MasonDavid HarveyChristina ButlerSheila BrownJeffrey GalvanRegina ParkerTracy ChapmanEdward SmithShawn PetersonBryan GuerraHeather StokesMartha BestCynthia WolfeDavid TaylorRebecca HansenJessica CarneyJoshua SanchezRegina GarciaCourtney GibsonBrandon DelacruzTheresa SummersKarina LeePeter RileyChristopher OneillDaniel KleinKatherine EdwardsElizabeth ShermanWilliam BrewerLauren LoganAmanda WalkerAmanda McdanielKevin WilliamsMrs. Pamela GarciaAngela RojasBeth SullivanMarie StoutEmily AllenDanielle Stanton MDConnie BushErica ShawPhilip RobinsonMiguel SmithFrank HoffmanKevin ColemanAndrea HallMark BrownKathleen ValdezJessica WardRebecca GonzalesMike McdanielPamela HughesPamela RitterTimothy ScottStephen LawrenceTracey OchoaBridget BurkeJason WhiteMichelle WashingtonRaymond VargasJeffrey GreenMichael MontgomeryAlejandro BarnettElaine JamesBrianna WhiteAlyssa JenningsTony NelsonLaurie FergusonKelly WileyDustin PetersenChristopher WilkersonDr. David MillerCorey BenjaminCharles PerezKyle DeanTonya WalshWendy DavisJoshua LoveMichael AdamsMrs. Sheena Bailey DVMJoan CaldwellBridget GrahamBrian ChangAlicia ButlerJames BrownDiane VargasMichele OnealZachary Garrett IIIDavid JohnsonKristy PopeMadison BurnsCynthia MooreTaylor ReedNathan PrattAmanda MartinBarbara WhiteMichael GrimesLaura NobleKevin QuinnDavid StoneSeth GreenAmy MooreCarolyn AriasAmy Mcintosh MDChristina KhanDr. Frank AndersonBecky JonesKathleen RamirezCatherine WilsonSandra DuncanJeffrey RivasJordan CruzCindy CruzTina RodriguezDavid RiveraBrian SilvaJoseph MurphyDawn HernandezMichael PatelBreanna MercerDavid PayneRuth ArmstrongJennifer JamesRachael HortonAshley TorresDaniel CherryAmanda FieldsVernon RossMarie HernandezMichael KimKevin BarnettMary WilliamsPaul HallBrittney HughesRonald HickmanMallory HowardKendra YangJames TurnerThomas LewisPhillip BishopAndrea BartonChristopher MillerErin PhillipsHeather HallKatrina AdkinsNicole MitchellPatty RyanLinda GravesMargaret AndersonRichard DeckerDarren BrooksHeather SmithMatthew TaylorCynthia GreenChristopher PhillipsMegan OlsonTiffany SmithVictor SmithAmy ParkerKelly ColemanEric KnappJustin WilliamsMallory AndersonJohn ClarkAnne HansenTina ButlerCody SchaeferThomas Burgess MDJoseph HodgesDaniel MillsAmanda Hale DVMGregory SchneiderClinton NguyenRussell ThompsonMegan FlemingDebbie BlackwellLaura JenkinsJordan AndersonAmanda IbarraJonathan KrauseDr. Daniel BowmanTammy JohnsonLinda HerreraJonathan MartinezChristine JohnsonTanya FisherAngelica HumphreyJustin JohnstonApril RodriguezAmber ThompsonMelissa BanksLori Mitchell DDSAmy SmithRichard DayJennifer MackJames SmithNicole PettyTina HillZachary SchultzMrs. Pam Lewis DVMKelsey HarrisRobert MitchellKelly HopkinsAmanda GrahamAmy Gutierrez DDSDawn RamirezKenneth WardMelody ScottAshley BarryAngela WilkinsTodd SimmonsDavid LunaLeonard CoxPeter TuckerCynthia NelsonPeter MillerAaron GarciaPatrick WhitneyMargaret QuinnAmber MooreMatthew AguilarDenise CarterJared BrownAmber VillanuevaAmy CohenMichael LeeStephanie AriasJenna GreerCameron CordovaJeremy PayneNathan ArroyoRussell BanksJoshua RamirezJay KirkAlicia SchwartzAnna CamachoCarla WilsonJessica WrightWilliam BlackAshley TerryJeffery PowellDaniel SandersMichael GarnerMaria WilliamsBrenda RayChelsea LewisNicholas RamosJennifer WashingtonAudrey WellsBarbara WoodAndrea ThompsonJason CoxSarah RobinsonHeidi MartinJanet ChanJeffrey RobbinsTheresa NicholsAmy HansenJoshua BrownKent ShermanEddie AlvarezYvonne Robinson PhDJennifer RamosTracy MorrisonCrystal JohnsonApril TrujilloLisa SanchezDeborah NelsonKevin GoodwinAbigail PerezDonna RoseAndrew WintersJessica HartLauren KlineGregory AllisonThomas JohnsonVanessa StevensonKathleen BeltranMartha Mcdonald DVMKevin JohnsonDr. Mary SchwartzAnthony MeadowsErnest PowellDavid FergusonMariah HoltNancy MartinStacey ThompsonAndrew RyanMallory ChenErika BurchRobert MorrowAustin ChavezJustin WilsonLisa MurrayJeremy WattsJustin ChenRenee BuckleyShannon PriceBarbara WhiteheadJackie KirkAngel MayerDeborah AndersonJacqueline West DDSAnita ZunigaDavid ChapmanBeverly BauerJessica NguyenMelissa LewisAmanda SchaeferJacqueline Snow MDMarcus RushAngela StewartJorge HoDr. Jennifer SheaChristopher CantuJonathan HaleErin BowersAnthony HernandezEduardo SantiagoDana HaynesClayton Williams DVMNatalie WhitakerFrances WhiteMeghan AdamsStephen FitzgeraldAmy BairdMolly BrownAmanda SloanEric WilliamsEmma VasquezSherry GomezAaron CarterAlan ScottJennifer CannonLindsay NicholsonStephanie JonesJose SmithKimberly MooreMelissa SchultzSteven CalhounJohn BallZachary WilliamsKimberly JacksonKristen WilliamsonSamantha HoffmanDanielle GonzalezCharles IngramTimothy GravesAnna RodriguezAmanda KaneJoseph JonesDebra JacksonErik DunlapMeghan HarperJennifer PinedaJohn WhiteKaren FischerTodd DavisLarry Chandler Jr.Veronica PotterRobert VelezAshley WeissErika JohnsonJesus GordonKathy JacksonAshley WilliamsJuan LopezAnna HaynesDon MurrayJohn GarzaSteven WhiteDavid SalazarDaniel WrightRebecca MolinaBetty EricksonCameron Roman Jr.Kelly PierceSergio McfarlandJeffrey ChavezAmanda GalvanRonald PooleJohn WallaceGina AguilarMelissa SullivanJeffery ToddDaniel BurtonJulie AllisonCarolyn CookMike AllenAngela CostaKarina CalderonFelicia CampbellElizabeth DixonNancy WheelerMichael WatsonJennifer LevinePhilip ArnoldCrystal GonzalesMr. Ian SmithLawrence JohnsonPeter JonesChristopher RamirezNicolas JohnsonStephanie RhodesSarah MillerScott CortezChristopher CarrollWilliam RodriguezWyatt HarrisJacob CarlsonJason PerryJoshua FoxJames PerkinsChristine SanfordSarah SnyderDana ChavezJose HansenMelissa Hunt MDFrank RiveraLeah BishopAudrey FieldsRenee Garcia MDAngela WallJose GoldenAndrew RichardsonCynthia McleanMelissa FordKelsey SmithHeidi MasonLaura JohnsonAmanda MooreRobert AndersonMichael RobbinsSamantha ScottJoseph WareMaria DavisKenneth WatkinsMrs. Lori Rogers MDFrank BlackwellMichele TorresJason FergusonWilliam DurhamNicole HaynesCraig MorganEvan WilsonKenneth OlsonSeth GreenRoberto EscobarJustin SchneiderSarah PadillaAshley GardnerCourtney LutzAlbert SheaJennifer McguireJoseph RamosVictoria BakerClaudia WoodScott HughesCassandra HaasKathryn HannaDiana PhelpsKari HuangSara WellsJordan PetersonFrederick RochaKathryn YoungBrittany HodgesSherry GutierrezJohn GrantBenjamin RoweChelsey VillanuevaAlexandra MccarthyRhonda GarciaJon MatthewsKristen HartmanLynn RivasBrandy WestCarmen ThomasThomas LarsonKathryn CoxTasha ButlerChristopher ThompsonCollin ThomasJulia GeorgeChristopher ShermanAmy BooneJames JensenMonica BerryJonathan MckenzieMrs. Christina Mitchell DDSKatherine BrownJordan BrownElizabeth BrownColton KelleyMelanie KentElizabeth VargasNathan RomanAngela JonesAngela LopezBrian ThomasDouglas HawkinsIan GallagherJeffrey GarrisonTeresa WilliamsJustin MillerJill BakerJessica MitchellJoseph GeorgeCandace FrankEric SotoEmily Duran MDRandall MyersTravis LopezElizabeth GonzalezBrian HoldenTodd Grant Jr.Reginald AlvaradoMark BryantDesiree ClarkJulia ChristianTerry FuentesChristina MartinOlivia RiceKristen NealTimothy BrayJennifer YoungSonya JuarezCharles AveryJohnny BanksJames SanchezScott ProctorJessica MoranRobert FernandezMeredith MckeeKathryn StanleyRichard PooleStephanie GarnerStacey ContrerasCheryl OsborneNathaniel JohnsonRandy LewisMichelle DavisJonathan YoungAngel JacksonMichael KennedyLisa PinedaJennifer MurrayKristopher MurphyRobert WagnerMichael HowellMeagan WhitneyChristopher DavisRhonda LynchTara MarshKeith AndersonAdriana SnyderMelanie MillsAllison JohnsonDebra HowardJustin MartinezDarius AtkinsonTimothy JacksonAlison SmithCatherine HortonAndrew TaylorHunter FitzpatrickSarah KirkKristina GarzaZachary ChavezMrs. Wendy HayesKenneth Santiago MDAnthony JenkinsTeresa LeonardJonathan AdamsDr. Matthew HernandezDouglas HamiltonIan WilliamsTroy ScottChristopher LambLouis Hodges DDSRonald MartinezMonica CochranHarry SnowAmanda ColeJustin LeeSamantha CooperChristopher SmithDiane BradfordJeanette YoungLarry MonroeBradley MurphyNina ThomasMr. Michael GrahamDaniel OlsonAndrew HerreraMichelle FoxMike HillErika LoganJulia HowellWilliam BradleyElizabeth ParkAnthony SmithDonald ReevesJordan WardJeanne Fischer MDWilliam HinesJason SullivanMrs. Amanda RoseRobert HinesKimberly CollinsVeronica McmillanTeresa PerezMatthew McdonaldJason HuntRichard LevinePatricia PerryJohnny SchneiderJessica SmithAlan BurnettBobby NobleCatherine HarrisValerie ObrienRebecca Salazar DDSChristopher NelsonDiana PonceKenneth RaymondRay HoffmanMary GarzaRobert DiazMarie StanleyAmanda SolomonScott BrewerKathy BrightKristen CrossAbigail YoungMichael CooperDavid DavisSteven MyersNancy RossMark EverettSteve WalkerJonathan ByrdNicholas DiazStacy DavisAngela TownsendRichard Cherry DDSTimothy GriffinJames Holland MDNicholas TannerDavid DavisDaniel MartinezLauren CampbellTimothy GomezRobert LandryJamie BaileyKenneth AlexanderMatthew GarciaTanya HawkinsJacob PorterDr. Patricia BakerRebecca FloydMark JordanBryan MayerJenna DickersonMary EatonCynthia GeorgeKathy BurgessBrett JenningsFrank RobersonBrandon GardnerKim LewisEdward MunozDr. Rachel GilbertDonna RiddleChristopher TateMichael DavisLouis McdanielNicole BurgessDavid JensenNicole GoodwinChristopher WelchJared LynchNicole BuckDavid GutierrezStephanie HarrisonWilliam PetersonMolly MasonAlbert WrightJoshua FernandezKendra WardEarl CaldwellShane MartinezElizabeth JohnsonMelissa ParksJennifer PettyMichael LeeAustin MooreDustin MossKristine WadeJeffrey DavisLisa VasquezKenneth Avila Jr.Sergio MayDavid RichardsonAndrew PierceChristian MuellerDavid WoodRobin BrownTimothy HillSteven WebsterHenry RamirezMichael RomeroJody HunterCaitlyn SmithDesiree CastroMelanie EsparzaHolly McphersonZachary RiveraChristine HillBrandon FlowersMichael TuckerMisty HatfieldChristine BurtonJames SmithTracy SteinCharles HoltAmy BrownSummer HuntTodd WilliamsSteven NelsonMelissa TranShelby RodriguezBrian MoralesJennifer HuangElizabeth MunozSteven NewtonRobyn HernandezNicholas JonesCurtis LeeDr. Andrea RoseWendy PetersonJennifer HernandezCorey BerryNicole WilliamsRita ReynoldsSara OwensEvan MooreSarah BryantGail CampbellDylan FrancoLindsey NobleMatthew JacksonMorgan ThomasElizabeth ChaseErnest BarnesRichard SheltonKaren BridgesCynthia StoneKristin SloanJennifer CunninghamRebecca ChapmanStacey TerryJohn ShawMr. Eric GordonAmber DiazRachel KellyAshley WalterDaniel HaleyRobert HendrixDonna HolmesKenneth HowardDonald MillsMichael ScottThomas SandersTeresa SullivanBriana LucasKyle RobertsSheri ThomasJordan PattersonDeborah RollinsAllison WhiteTimothy StewartAmanda NelsonSydney KimThomas HinesMichael FoleyAnthony WadeRobert PerezWendy FinleySabrina RasmussenBilly Franco PhDJason FlemingMaxwell LeonardJonathan CooperRandy BlakeMatthew MillsTracy EspinozaBrandy KellerAnita ScottDiana BradleyJohn GonzalezAngela SimpsonHannah HicksCody WilcoxShane DavisThomas WallsDr. Alexander Chang PhDMr. Robert HendricksKimberly JonesMichele MooreLaura MillerJennifer GonzalezVanessa GarciaGerald KimWendy ShepardHarold PetersonEddie WilliamsShawn ObrienRobert HaneyKathryn GonzalesAmy RiceHannah BruceMichele TerryJennifer JohnsonDavid WrightCarlos SmithErnest WongWilliam PottsMark JeffersonNicole RollinsJohn QuinnAndrew ReidKristen KingMatthew WilsonArthur LeeLori WilliamsDaniel GarciaMs. Stephanie Schwartz DDSLoretta PerezRandall BanksAdrian DavisDebra SmithMary LawsonWhitney EstesMorgan AllenSteven HansonAustin KellyGrace HarrisonJose SchmittNatasha DaviesLawrence ZhangMichael BoydBarbara AndersonShannon BlairCarolyn HawkinsCharles MorrisDerrick CarrollCynthia MartinezJesus BooneRebecca JohnsonAndrew AllisonMadeline MonroeCristina HobbsLindsey NavarroMichael NielsenJason BrownBreanna MooreDonald MartinezAbigail EspinozaAdam GriffinKarla McneilRebecca KnappAlicia JohnsonGabriel ArroyoEdward EdwardsDaniel JohnsonKevin LongDr. Devin Sharp PhDKenneth AriasShannon TateKrystal MarshallAlexander McculloughRichard SmithMeagan BakerDavid FullerChad SmithRichard ReyesMadison WagnerWilliam BowenAnthony AlvaradoBrittney Hammond DVMBrandon BrownKristopher WrightMark WarrenElizabeth FrazierMark BaileyChristopher MontgomeryElizabeth WallerLouis WoodsBrandy MitchellRoger KingTara DouglasMelissa OwensDavid GonzalezTodd WilliamsNathaniel OconnellTravis GreenLuke FryDouglas WoodsChristopher SilvaJacob TerryNancy HarrisonMichael SullivanMiss Norma McfarlandLaurie DoughertyJoshua TaylorAndrew CampbellHeather BellBradley MartinezAmy LeeDavid GoodAaron NelsonRobert TylerJaclyn WilliamsJoe KochDerek LopezAngela BryantWalter MaxwellDennis KleinNancy NelsonJason DrakeMary AcevedoDakota AdamsDaryl GregoryKathleen LoveJames ChavezDawn LewisEric ThompsonBrittany EdwardsCharles BaileyGina SimsJohn McdanielHeather ScottChristine GarciaTracy LoweryJay RobertsBrandon OrtizElizabeth EllisonPatricia WoodTroy MorganAdriana WallEric LewisRobert DukeCarol TorresRobert HooperMandy HensleyKayla PetersenReginald MolinaTasha GrayDawn ChristensenMarcus WilsonJason RodriguezKimberly FisherMichael JohnsonPatricia VillanuevaDavid TorresHeather RobinsonKathryn BernardDebbie TurnerKayla BurtonAmanda BatesKathleen KnoxMr. Colton Collins IIJamie MasonDwayne SmithCynthia CastilloBrandon WilliamsCrystal MaldonadoHaley GreenKimberly PorterElizabeth CarrilloJames HowellAnthony WelchTammie RogersSteven LeSharon PadillaJonathan GardnerJulie DavisStacie HollandDiana GarrettJessica SchmidtMallory GravesKerry HendersonBrandon VaughnAnita WilsonNancy SmithAshley LopezMichael ParkMr. Mason Hernandez MDCindy PowellKayla ScottKimberly JohnstonAnn FloresBrittney AdamsPatricia MillerJonathan GallowayVeronica GriffithMichelle RamosJoe NunezKathy BushEmily HessChase HortonBrittany CarrCharles GonzalezThomas AlvarezJason OrtizRhonda FergusonBrenda DixonKenneth BrooksTyler SmithAlison AndersonBethany HarveyNicholas CostaRyan AllenGabriel Ashley to numeric",
     "output_type": "error",
     "traceback": [
      "\u001b[1;31m---------------------------------------------------------------------------\u001b[0m",
      "\u001b[1;31mNotImplementedError\u001b[0m                       Traceback (most recent call last)",
      "File \u001b[1;32m~\\.anaconda\\Python\\Lib\\site-packages\\pandas\\core\\groupby\\groupby.py:1490\u001b[0m, in \u001b[0;36mGroupBy._cython_agg_general.<locals>.array_func\u001b[1;34m(values)\u001b[0m\n\u001b[0;32m   1489\u001b[0m \u001b[38;5;28;01mtry\u001b[39;00m:\n\u001b[1;32m-> 1490\u001b[0m     result \u001b[38;5;241m=\u001b[39m \u001b[38;5;28mself\u001b[39m\u001b[38;5;241m.\u001b[39mgrouper\u001b[38;5;241m.\u001b[39m_cython_operation(\n\u001b[0;32m   1491\u001b[0m         \u001b[38;5;124m\"\u001b[39m\u001b[38;5;124maggregate\u001b[39m\u001b[38;5;124m\"\u001b[39m,\n\u001b[0;32m   1492\u001b[0m         values,\n\u001b[0;32m   1493\u001b[0m         how,\n\u001b[0;32m   1494\u001b[0m         axis\u001b[38;5;241m=\u001b[39mdata\u001b[38;5;241m.\u001b[39mndim \u001b[38;5;241m-\u001b[39m \u001b[38;5;241m1\u001b[39m,\n\u001b[0;32m   1495\u001b[0m         min_count\u001b[38;5;241m=\u001b[39mmin_count,\n\u001b[0;32m   1496\u001b[0m         \u001b[38;5;241m*\u001b[39m\u001b[38;5;241m*\u001b[39mkwargs,\n\u001b[0;32m   1497\u001b[0m     )\n\u001b[0;32m   1498\u001b[0m \u001b[38;5;28;01mexcept\u001b[39;00m \u001b[38;5;167;01mNotImplementedError\u001b[39;00m:\n\u001b[0;32m   1499\u001b[0m     \u001b[38;5;66;03m# generally if we have numeric_only=False\u001b[39;00m\n\u001b[0;32m   1500\u001b[0m     \u001b[38;5;66;03m# and non-applicable functions\u001b[39;00m\n\u001b[0;32m   1501\u001b[0m     \u001b[38;5;66;03m# try to python agg\u001b[39;00m\n\u001b[0;32m   1502\u001b[0m     \u001b[38;5;66;03m# TODO: shouldn't min_count matter?\u001b[39;00m\n",
      "File \u001b[1;32m~\\.anaconda\\Python\\Lib\\site-packages\\pandas\\core\\groupby\\ops.py:959\u001b[0m, in \u001b[0;36mBaseGrouper._cython_operation\u001b[1;34m(self, kind, values, how, axis, min_count, **kwargs)\u001b[0m\n\u001b[0;32m    958\u001b[0m ngroups \u001b[38;5;241m=\u001b[39m \u001b[38;5;28mself\u001b[39m\u001b[38;5;241m.\u001b[39mngroups\n\u001b[1;32m--> 959\u001b[0m \u001b[38;5;28;01mreturn\u001b[39;00m cy_op\u001b[38;5;241m.\u001b[39mcython_operation(\n\u001b[0;32m    960\u001b[0m     values\u001b[38;5;241m=\u001b[39mvalues,\n\u001b[0;32m    961\u001b[0m     axis\u001b[38;5;241m=\u001b[39maxis,\n\u001b[0;32m    962\u001b[0m     min_count\u001b[38;5;241m=\u001b[39mmin_count,\n\u001b[0;32m    963\u001b[0m     comp_ids\u001b[38;5;241m=\u001b[39mids,\n\u001b[0;32m    964\u001b[0m     ngroups\u001b[38;5;241m=\u001b[39mngroups,\n\u001b[0;32m    965\u001b[0m     \u001b[38;5;241m*\u001b[39m\u001b[38;5;241m*\u001b[39mkwargs,\n\u001b[0;32m    966\u001b[0m )\n",
      "File \u001b[1;32m~\\.anaconda\\Python\\Lib\\site-packages\\pandas\\core\\groupby\\ops.py:657\u001b[0m, in \u001b[0;36mWrappedCythonOp.cython_operation\u001b[1;34m(self, values, axis, min_count, comp_ids, ngroups, **kwargs)\u001b[0m\n\u001b[0;32m    649\u001b[0m     \u001b[38;5;28;01mreturn\u001b[39;00m \u001b[38;5;28mself\u001b[39m\u001b[38;5;241m.\u001b[39m_ea_wrap_cython_operation(\n\u001b[0;32m    650\u001b[0m         values,\n\u001b[0;32m    651\u001b[0m         min_count\u001b[38;5;241m=\u001b[39mmin_count,\n\u001b[1;32m   (...)\u001b[0m\n\u001b[0;32m    654\u001b[0m         \u001b[38;5;241m*\u001b[39m\u001b[38;5;241m*\u001b[39mkwargs,\n\u001b[0;32m    655\u001b[0m     )\n\u001b[1;32m--> 657\u001b[0m \u001b[38;5;28;01mreturn\u001b[39;00m \u001b[38;5;28mself\u001b[39m\u001b[38;5;241m.\u001b[39m_cython_op_ndim_compat(\n\u001b[0;32m    658\u001b[0m     values,\n\u001b[0;32m    659\u001b[0m     min_count\u001b[38;5;241m=\u001b[39mmin_count,\n\u001b[0;32m    660\u001b[0m     ngroups\u001b[38;5;241m=\u001b[39mngroups,\n\u001b[0;32m    661\u001b[0m     comp_ids\u001b[38;5;241m=\u001b[39mcomp_ids,\n\u001b[0;32m    662\u001b[0m     mask\u001b[38;5;241m=\u001b[39m\u001b[38;5;28;01mNone\u001b[39;00m,\n\u001b[0;32m    663\u001b[0m     \u001b[38;5;241m*\u001b[39m\u001b[38;5;241m*\u001b[39mkwargs,\n\u001b[0;32m    664\u001b[0m )\n",
      "File \u001b[1;32m~\\.anaconda\\Python\\Lib\\site-packages\\pandas\\core\\groupby\\ops.py:497\u001b[0m, in \u001b[0;36mWrappedCythonOp._cython_op_ndim_compat\u001b[1;34m(self, values, min_count, ngroups, comp_ids, mask, result_mask, **kwargs)\u001b[0m\n\u001b[0;32m    495\u001b[0m     \u001b[38;5;28;01mreturn\u001b[39;00m res\u001b[38;5;241m.\u001b[39mT\n\u001b[1;32m--> 497\u001b[0m \u001b[38;5;28;01mreturn\u001b[39;00m \u001b[38;5;28mself\u001b[39m\u001b[38;5;241m.\u001b[39m_call_cython_op(\n\u001b[0;32m    498\u001b[0m     values,\n\u001b[0;32m    499\u001b[0m     min_count\u001b[38;5;241m=\u001b[39mmin_count,\n\u001b[0;32m    500\u001b[0m     ngroups\u001b[38;5;241m=\u001b[39mngroups,\n\u001b[0;32m    501\u001b[0m     comp_ids\u001b[38;5;241m=\u001b[39mcomp_ids,\n\u001b[0;32m    502\u001b[0m     mask\u001b[38;5;241m=\u001b[39mmask,\n\u001b[0;32m    503\u001b[0m     result_mask\u001b[38;5;241m=\u001b[39mresult_mask,\n\u001b[0;32m    504\u001b[0m     \u001b[38;5;241m*\u001b[39m\u001b[38;5;241m*\u001b[39mkwargs,\n\u001b[0;32m    505\u001b[0m )\n",
      "File \u001b[1;32m~\\.anaconda\\Python\\Lib\\site-packages\\pandas\\core\\groupby\\ops.py:541\u001b[0m, in \u001b[0;36mWrappedCythonOp._call_cython_op\u001b[1;34m(self, values, min_count, ngroups, comp_ids, mask, result_mask, **kwargs)\u001b[0m\n\u001b[0;32m    540\u001b[0m out_shape \u001b[38;5;241m=\u001b[39m \u001b[38;5;28mself\u001b[39m\u001b[38;5;241m.\u001b[39m_get_output_shape(ngroups, values)\n\u001b[1;32m--> 541\u001b[0m func \u001b[38;5;241m=\u001b[39m \u001b[38;5;28mself\u001b[39m\u001b[38;5;241m.\u001b[39m_get_cython_function(\u001b[38;5;28mself\u001b[39m\u001b[38;5;241m.\u001b[39mkind, \u001b[38;5;28mself\u001b[39m\u001b[38;5;241m.\u001b[39mhow, values\u001b[38;5;241m.\u001b[39mdtype, is_numeric)\n\u001b[0;32m    542\u001b[0m values \u001b[38;5;241m=\u001b[39m \u001b[38;5;28mself\u001b[39m\u001b[38;5;241m.\u001b[39m_get_cython_vals(values)\n",
      "File \u001b[1;32m~\\.anaconda\\Python\\Lib\\site-packages\\pandas\\core\\groupby\\ops.py:173\u001b[0m, in \u001b[0;36mWrappedCythonOp._get_cython_function\u001b[1;34m(cls, kind, how, dtype, is_numeric)\u001b[0m\n\u001b[0;32m    171\u001b[0m \u001b[38;5;28;01mif\u001b[39;00m \u001b[38;5;124m\"\u001b[39m\u001b[38;5;124mobject\u001b[39m\u001b[38;5;124m\"\u001b[39m \u001b[38;5;129;01mnot\u001b[39;00m \u001b[38;5;129;01min\u001b[39;00m f\u001b[38;5;241m.\u001b[39m__signatures__:\n\u001b[0;32m    172\u001b[0m     \u001b[38;5;66;03m# raise NotImplementedError here rather than TypeError later\u001b[39;00m\n\u001b[1;32m--> 173\u001b[0m     \u001b[38;5;28;01mraise\u001b[39;00m \u001b[38;5;167;01mNotImplementedError\u001b[39;00m(\n\u001b[0;32m    174\u001b[0m         \u001b[38;5;124mf\u001b[39m\u001b[38;5;124m\"\u001b[39m\u001b[38;5;124mfunction is not implemented for this dtype: \u001b[39m\u001b[38;5;124m\"\u001b[39m\n\u001b[0;32m    175\u001b[0m         \u001b[38;5;124mf\u001b[39m\u001b[38;5;124m\"\u001b[39m\u001b[38;5;124m[how->\u001b[39m\u001b[38;5;132;01m{\u001b[39;00mhow\u001b[38;5;132;01m}\u001b[39;00m\u001b[38;5;124m,dtype->\u001b[39m\u001b[38;5;132;01m{\u001b[39;00mdtype_str\u001b[38;5;132;01m}\u001b[39;00m\u001b[38;5;124m]\u001b[39m\u001b[38;5;124m\"\u001b[39m\n\u001b[0;32m    176\u001b[0m     )\n\u001b[0;32m    177\u001b[0m \u001b[38;5;28;01mreturn\u001b[39;00m f\n",
      "\u001b[1;31mNotImplementedError\u001b[0m: function is not implemented for this dtype: [how->mean,dtype->object]",
      "\nDuring handling of the above exception, another exception occurred:\n",
      "\u001b[1;31mValueError\u001b[0m                                Traceback (most recent call last)",
      "File \u001b[1;32m~\\.anaconda\\Python\\Lib\\site-packages\\pandas\\core\\nanops.py:1692\u001b[0m, in \u001b[0;36m_ensure_numeric\u001b[1;34m(x)\u001b[0m\n\u001b[0;32m   1691\u001b[0m \u001b[38;5;28;01mtry\u001b[39;00m:\n\u001b[1;32m-> 1692\u001b[0m     x \u001b[38;5;241m=\u001b[39m \u001b[38;5;28mfloat\u001b[39m(x)\n\u001b[0;32m   1693\u001b[0m \u001b[38;5;28;01mexcept\u001b[39;00m (\u001b[38;5;167;01mTypeError\u001b[39;00m, \u001b[38;5;167;01mValueError\u001b[39;00m):\n\u001b[0;32m   1694\u001b[0m     \u001b[38;5;66;03m# e.g. \"1+1j\" or \"foo\"\u001b[39;00m\n",
      "\u001b[1;31mValueError\u001b[0m: could not convert string to float: 'Blake MartinFrank MarshCharles Goodman Jr.Aaron MoyerMichael DeanRobin VegaKenneth JuarezGerald SmithDavid HernandezMatthew SinghJeremiah WhiteLisa AguilarDanielle HarrisKristin JohnsonKevin MartinAnna MyersTimothy HigginsAnthony FordNicole RoseChristopher LongMr. Michael AllenCasey JonesJoseph KellyDebra BrownJacqueline SheaSara MurphyNatalie GrantPeter MillerDavid CannonValerie MayApril FisherBradley HunterJohn WilliamsonAnthony SpencerJoseph AllenAngela WallJames FerrellRobert RodriguezDarius WilliamsBrian TrevinoAndrea GreenAustin JohnstonGuy ThomasDesiree GordonScott ClarkLinda SinghWilliam PerryTerry SantanaApril StevensAnthony TorresWayne GuerreroMonique CarterChristine LeeJay SmithRobert ReyesRichard MacdonaldJonathan TuckerChelsea KempMelissa BowmanWilliam SimpsonAmanda DavisBrandon MedinaPatricia WilliamsJeremy CharlesTyler GonzalezKristen GreenRichard WallerLaura LindseyMark AlvarezMatthew ThomasHeather GouldJacqueline SnowApril Calderon MDMichael WaltersErin HaleMichael AndersonPeggy BautistaGina BarberDavid HarrisNathan JonesAdam CruzPeter GonzalezBarbara RobinsonSteven WongAdam HerringPatricia MillerJim StevensJordan MclaughlinVincent MartinTracey BensonNatasha EverettErin ParksStephen ThompsonDaniel KingBenjamin MurrayKristen SmithJohn CarrilloMark BrowningEric Park DDSBrian MosleyPatricia MarshJennifer AndersonDanielle HoodMatthew CarterStephanie ThomasCathy MercadoSheila LewisPatrick Barker PhDAna BurnsChloe DownsJoshua FloresBianca BoyerWilliam ThompsonJonathan LongSamantha PattersonEmily PowellLouis WatersNathan DominguezKristin KellerJordan StewartBrian DunnEmily MartinJamie MillerNathan AtkinsonKelly MartinezCarlos RamirezAllen Morris Jr.Sarah RobertsPatricia HoBreanna MorrisEmily TurnerAlyssa RodriguezRichard JohnsonMary GreenMegan MillerWanda BaileyRenee RodriguezJeffrey PayneKari CharlesKelly HarmonShannon WeaverPatty NelsonAndrea JonesDale WhitakerKatherine DeanBrittney HenryAaron RodriguezDr. Carl JamesWilliam FrancisDanielle DyerMichael WagnerAmanda RogersPatricia JonesVictor MartinDr. Kimberly BenjaminMichelle BeckerJoseph NunezKeith AlvarezRicardo VazquezMatthew HawkinsNicole SmithSarah HodgeAmber BlevinsBenjamin BatesThomas MarshallAnna JohnsonRyan Graham MDTerri MillerTaylor DominguezLisa HarrisMichael RobinsonMelissa KellyChase RayTracy RodriguezYvonne WareJake MilesChristopher MyersCindy MurphyDylan JohnsonFrank NewmanLisa MyersKristine KellyMelissa AndersonMarissa BlevinsJason HallJoseph HernandezWanda MaddoxArthur KochNicholas DanielJerry RichardsJoel PittsThomas HerreraJennifer CarlsonJorge McdonaldStephanie Howard MDAlyssa WilliamsonPedro LongJames SmithGregory HerringDaniel BarrettTravis ComptonDaniel RowlandJonathon WillisAdam RodriguezDominique LloydJoyce RobertsJon GriffinJoseph ForbesDustin MarquezSean WellsDeanna CombsDanielle HayesKrystal ReynoldsCarl MartinezBrandon PopeAmanda RodriguezMarco WilliamsErica CollinsPenny NguyenLori LeeLori SmithBryan MooreJaclyn CobbVeronica DiazBarbara LarsenSteven HartmanMegan VillaAlex ConnerDanielle HurleyJames CalhounRyan GreenVeronica GomezWilliam SwansonLauren WestJohn BrownTonya SaundersDavid ThomasCrystal EdwardsCathy RamosChris RobertsKatherine TuckerJustin HillSarah AllenJessica BauerJames RodgersJacqueline EwingJacob ThomasNatalie JohnstonFelicia MatthewsRobert LawrenceJoshua MorganSierra JohnsonTravis HeathMelanie AndersonKenneth GarciaMaria BrockAdam PattonMatthew MezaAmanda JohnsonJesse HernandezPenny DeckerBobby WilliamsMargaret HortonRonnie BarrettAllen OnealGerald LangWilliam HudsonDerek SilvaDarlene LeeHarold JohnstonDonna ReedWanda PhillipsMegan JonesTheresa ShieldsMark LeeErica BakerVirginia BallardAaron AtkinsonBianca Huynh MDDaniel PhillipsThomas JohnsonNicole LopezAdam LambMonica RobersonDouglas RodriguezSarah OrtizDeanna MendozaMelissa Dunn MDLauren KochWilliam FrenchJared WashingtonJames JacksonMelissa SandovalMr. Angel JohnsonChad EvansDonald MyersNicole JohnsonWendy RiveraWilliam PinedaRebecca StoutDerek DiazTravis WebbShane PerezJasmine CampbellMason RaymondVincent EllisJoseph McgeeKatelyn DayAmy BeckerKenneth HughesKimberly FrazierMichael Garcia Jr.April HallJessica MatthewsMr. Daniel Nguyen DDSChristopher KelleyHeather WeaverTaylor GambleSteven BaileyRichard HernandezNancy McclurePaul ClarkeEric ArnoldElizabeth MeyerKaitlin BarrettAnthony PatelApril GillespieJohn SnyderRoy DeckerMatthew JonesKenneth MartinezKevin BrowningChristine IbarraMelissa BrownMichael PerezNorman BurnsJames MarshallTaylor CohenAlejandro CarterAllison GardnerEmily CollierDebbie Brown DVMAmy ShawTaylor MedinaLisa RichardsDana CruzJustin HenryRobert WeberTamara MooreKim StewartAdriana SmithJoshua Kim DDSCarol JohnsonMr. Jesse BellEmily WarrenAlexandra HendricksJulie MoralesJason JohnsonLisa JonesMonica SmithEric EdwardsMichael BurnettDerek MayPaul WoodMiguel JohnsonDouglas HardyKaitlyn ChambersCarlos YoungLindsay LinPhillip WashingtonAlexis MatthewsAndrew ThomasDerek Barker Jr.Jeremy WoodAndrew JimenezJennifer ButlerMrs. Renee GordonMichelle MurrayJennifer StoneDavid KirbySheila YoungHeather WatsonRobert RossKristen LunaDawn MartinezSavannah RamseyWilliam SalasHolly MooreJason CarterRyan SmithBrett EricksonChristina AyalaJames GarciaConnor CobbCrystal BuchananSherri PadillaJustin PowellVanessa TuckerTyler HarperRobert GreerBarry HallMargaret LeeDavid DiazRenee MonroeKristen MitchellSamantha MartinJessica FarmerCarlos BrownMiguel MaciasAlejandra WilliamsonMary GriffinMatthew GrantAnnette RossCarolyn MillerErica MillerMark MclaughlinJamie GibsonMatthew RiggsBetty IrwinFrederick LeeHelen GayCourtney ThompsonDiana ChapmanKenneth DiazKenneth HartmanRachel LopezCassandra BaldwinJose ButlerJohn LoveMrs. Amanda MartinMichael MooreJohn VaughnRebecca ChungDaniel HartMackenzie MasonDavid HarveyChristina ButlerSheila BrownJeffrey GalvanRegina ParkerTracy ChapmanEdward SmithShawn PetersonBryan GuerraHeather StokesMartha BestCynthia WolfeDavid TaylorRebecca HansenJessica CarneyJoshua SanchezRegina GarciaCourtney GibsonBrandon DelacruzTheresa SummersKarina LeePeter RileyChristopher OneillDaniel KleinKatherine EdwardsElizabeth ShermanWilliam BrewerLauren LoganAmanda WalkerAmanda McdanielKevin WilliamsMrs. Pamela GarciaAngela RojasBeth SullivanMarie StoutEmily AllenDanielle Stanton MDConnie BushErica ShawPhilip RobinsonMiguel SmithFrank HoffmanKevin ColemanAndrea HallMark BrownKathleen ValdezJessica WardRebecca GonzalesMike McdanielPamela HughesPamela RitterTimothy ScottStephen LawrenceTracey OchoaBridget BurkeJason WhiteMichelle WashingtonRaymond VargasJeffrey GreenMichael MontgomeryAlejandro BarnettElaine JamesBrianna WhiteAlyssa JenningsTony NelsonLaurie FergusonKelly WileyDustin PetersenChristopher WilkersonDr. David MillerCorey BenjaminCharles PerezKyle DeanTonya WalshWendy DavisJoshua LoveMichael AdamsMrs. Sheena Bailey DVMJoan CaldwellBridget GrahamBrian ChangAlicia ButlerJames BrownDiane VargasMichele OnealZachary Garrett IIIDavid JohnsonKristy PopeMadison BurnsCynthia MooreTaylor ReedNathan PrattAmanda MartinBarbara WhiteMichael GrimesLaura NobleKevin QuinnDavid StoneSeth GreenAmy MooreCarolyn AriasAmy Mcintosh MDChristina KhanDr. Frank AndersonBecky JonesKathleen RamirezCatherine WilsonSandra DuncanJeffrey RivasJordan CruzCindy CruzTina RodriguezDavid RiveraBrian SilvaJoseph MurphyDawn HernandezMichael PatelBreanna MercerDavid PayneRuth ArmstrongJennifer JamesRachael HortonAshley TorresDaniel CherryAmanda FieldsVernon RossMarie HernandezMichael KimKevin BarnettMary WilliamsPaul HallBrittney HughesRonald HickmanMallory HowardKendra YangJames TurnerThomas LewisPhillip BishopAndrea BartonChristopher MillerErin PhillipsHeather HallKatrina AdkinsNicole MitchellPatty RyanLinda GravesMargaret AndersonRichard DeckerDarren BrooksHeather SmithMatthew TaylorCynthia GreenChristopher PhillipsMegan OlsonTiffany SmithVictor SmithAmy ParkerKelly ColemanEric KnappJustin WilliamsMallory AndersonJohn ClarkAnne HansenTina ButlerCody SchaeferThomas Burgess MDJoseph HodgesDaniel MillsAmanda Hale DVMGregory SchneiderClinton NguyenRussell ThompsonMegan FlemingDebbie BlackwellLaura JenkinsJordan AndersonAmanda IbarraJonathan KrauseDr. Daniel BowmanTammy JohnsonLinda HerreraJonathan MartinezChristine JohnsonTanya FisherAngelica HumphreyJustin JohnstonApril RodriguezAmber ThompsonMelissa BanksLori Mitchell DDSAmy SmithRichard DayJennifer MackJames SmithNicole PettyTina HillZachary SchultzMrs. Pam Lewis DVMKelsey HarrisRobert MitchellKelly HopkinsAmanda GrahamAmy Gutierrez DDSDawn RamirezKenneth WardMelody ScottAshley BarryAngela WilkinsTodd SimmonsDavid LunaLeonard CoxPeter TuckerCynthia NelsonPeter MillerAaron GarciaPatrick WhitneyMargaret QuinnAmber MooreMatthew AguilarDenise CarterJared BrownAmber VillanuevaAmy CohenMichael LeeStephanie AriasJenna GreerCameron CordovaJeremy PayneNathan ArroyoRussell BanksJoshua RamirezJay KirkAlicia SchwartzAnna CamachoCarla WilsonJessica WrightWilliam BlackAshley TerryJeffery PowellDaniel SandersMichael GarnerMaria WilliamsBrenda RayChelsea LewisNicholas RamosJennifer WashingtonAudrey WellsBarbara WoodAndrea ThompsonJason CoxSarah RobinsonHeidi MartinJanet ChanJeffrey RobbinsTheresa NicholsAmy HansenJoshua BrownKent ShermanEddie AlvarezYvonne Robinson PhDJennifer RamosTracy MorrisonCrystal JohnsonApril TrujilloLisa SanchezDeborah NelsonKevin GoodwinAbigail PerezDonna RoseAndrew WintersJessica HartLauren KlineGregory AllisonThomas JohnsonVanessa StevensonKathleen BeltranMartha Mcdonald DVMKevin JohnsonDr. Mary SchwartzAnthony MeadowsErnest PowellDavid FergusonMariah HoltNancy MartinStacey ThompsonAndrew RyanMallory ChenErika BurchRobert MorrowAustin ChavezJustin WilsonLisa MurrayJeremy WattsJustin ChenRenee BuckleyShannon PriceBarbara WhiteheadJackie KirkAngel MayerDeborah AndersonJacqueline West DDSAnita ZunigaDavid ChapmanBeverly BauerJessica NguyenMelissa LewisAmanda SchaeferJacqueline Snow MDMarcus RushAngela StewartJorge HoDr. Jennifer SheaChristopher CantuJonathan HaleErin BowersAnthony HernandezEduardo SantiagoDana HaynesClayton Williams DVMNatalie WhitakerFrances WhiteMeghan AdamsStephen FitzgeraldAmy BairdMolly BrownAmanda SloanEric WilliamsEmma VasquezSherry GomezAaron CarterAlan ScottJennifer CannonLindsay NicholsonStephanie JonesJose SmithKimberly MooreMelissa SchultzSteven CalhounJohn BallZachary WilliamsKimberly JacksonKristen WilliamsonSamantha HoffmanDanielle GonzalezCharles IngramTimothy GravesAnna RodriguezAmanda KaneJoseph JonesDebra JacksonErik DunlapMeghan HarperJennifer PinedaJohn WhiteKaren FischerTodd DavisLarry Chandler Jr.Veronica PotterRobert VelezAshley WeissErika JohnsonJesus GordonKathy JacksonAshley WilliamsJuan LopezAnna HaynesDon MurrayJohn GarzaSteven WhiteDavid SalazarDaniel WrightRebecca MolinaBetty EricksonCameron Roman Jr.Kelly PierceSergio McfarlandJeffrey ChavezAmanda GalvanRonald PooleJohn WallaceGina AguilarMelissa SullivanJeffery ToddDaniel BurtonJulie AllisonCarolyn CookMike AllenAngela CostaKarina CalderonFelicia CampbellElizabeth DixonNancy WheelerMichael WatsonJennifer LevinePhilip ArnoldCrystal GonzalesMr. Ian SmithLawrence JohnsonPeter JonesChristopher RamirezNicolas JohnsonStephanie RhodesSarah MillerScott CortezChristopher CarrollWilliam RodriguezWyatt HarrisJacob CarlsonJason PerryJoshua FoxJames PerkinsChristine SanfordSarah SnyderDana ChavezJose HansenMelissa Hunt MDFrank RiveraLeah BishopAudrey FieldsRenee Garcia MDAngela WallJose GoldenAndrew RichardsonCynthia McleanMelissa FordKelsey SmithHeidi MasonLaura JohnsonAmanda MooreRobert AndersonMichael RobbinsSamantha ScottJoseph WareMaria DavisKenneth WatkinsMrs. Lori Rogers MDFrank BlackwellMichele TorresJason FergusonWilliam DurhamNicole HaynesCraig MorganEvan WilsonKenneth OlsonSeth GreenRoberto EscobarJustin SchneiderSarah PadillaAshley GardnerCourtney LutzAlbert SheaJennifer McguireJoseph RamosVictoria BakerClaudia WoodScott HughesCassandra HaasKathryn HannaDiana PhelpsKari HuangSara WellsJordan PetersonFrederick RochaKathryn YoungBrittany HodgesSherry GutierrezJohn GrantBenjamin RoweChelsey VillanuevaAlexandra MccarthyRhonda GarciaJon MatthewsKristen HartmanLynn RivasBrandy WestCarmen ThomasThomas LarsonKathryn CoxTasha ButlerChristopher ThompsonCollin ThomasJulia GeorgeChristopher ShermanAmy BooneJames JensenMonica BerryJonathan MckenzieMrs. Christina Mitchell DDSKatherine BrownJordan BrownElizabeth BrownColton KelleyMelanie KentElizabeth VargasNathan RomanAngela JonesAngela LopezBrian ThomasDouglas HawkinsIan GallagherJeffrey GarrisonTeresa WilliamsJustin MillerJill BakerJessica MitchellJoseph GeorgeCandace FrankEric SotoEmily Duran MDRandall MyersTravis LopezElizabeth GonzalezBrian HoldenTodd Grant Jr.Reginald AlvaradoMark BryantDesiree ClarkJulia ChristianTerry FuentesChristina MartinOlivia RiceKristen NealTimothy BrayJennifer YoungSonya JuarezCharles AveryJohnny BanksJames SanchezScott ProctorJessica MoranRobert FernandezMeredith MckeeKathryn StanleyRichard PooleStephanie GarnerStacey ContrerasCheryl OsborneNathaniel JohnsonRandy LewisMichelle DavisJonathan YoungAngel JacksonMichael KennedyLisa PinedaJennifer MurrayKristopher MurphyRobert WagnerMichael HowellMeagan WhitneyChristopher DavisRhonda LynchTara MarshKeith AndersonAdriana SnyderMelanie MillsAllison JohnsonDebra HowardJustin MartinezDarius AtkinsonTimothy JacksonAlison SmithCatherine HortonAndrew TaylorHunter FitzpatrickSarah KirkKristina GarzaZachary ChavezMrs. Wendy HayesKenneth Santiago MDAnthony JenkinsTeresa LeonardJonathan AdamsDr. Matthew HernandezDouglas HamiltonIan WilliamsTroy ScottChristopher LambLouis Hodges DDSRonald MartinezMonica CochranHarry SnowAmanda ColeJustin LeeSamantha CooperChristopher SmithDiane BradfordJeanette YoungLarry MonroeBradley MurphyNina ThomasMr. Michael GrahamDaniel OlsonAndrew HerreraMichelle FoxMike HillErika LoganJulia HowellWilliam BradleyElizabeth ParkAnthony SmithDonald ReevesJordan WardJeanne Fischer MDWilliam HinesJason SullivanMrs. Amanda RoseRobert HinesKimberly CollinsVeronica McmillanTeresa PerezMatthew McdonaldJason HuntRichard LevinePatricia PerryJohnny SchneiderJessica SmithAlan BurnettBobby NobleCatherine HarrisValerie ObrienRebecca Salazar DDSChristopher NelsonDiana PonceKenneth RaymondRay HoffmanMary GarzaRobert DiazMarie StanleyAmanda SolomonScott BrewerKathy BrightKristen CrossAbigail YoungMichael CooperDavid DavisSteven MyersNancy RossMark EverettSteve WalkerJonathan ByrdNicholas DiazStacy DavisAngela TownsendRichard Cherry DDSTimothy GriffinJames Holland MDNicholas TannerDavid DavisDaniel MartinezLauren CampbellTimothy GomezRobert LandryJamie BaileyKenneth AlexanderMatthew GarciaTanya HawkinsJacob PorterDr. Patricia BakerRebecca FloydMark JordanBryan MayerJenna DickersonMary EatonCynthia GeorgeKathy BurgessBrett JenningsFrank RobersonBrandon GardnerKim LewisEdward MunozDr. Rachel GilbertDonna RiddleChristopher TateMichael DavisLouis McdanielNicole BurgessDavid JensenNicole GoodwinChristopher WelchJared LynchNicole BuckDavid GutierrezStephanie HarrisonWilliam PetersonMolly MasonAlbert WrightJoshua FernandezKendra WardEarl CaldwellShane MartinezElizabeth JohnsonMelissa ParksJennifer PettyMichael LeeAustin MooreDustin MossKristine WadeJeffrey DavisLisa VasquezKenneth Avila Jr.Sergio MayDavid RichardsonAndrew PierceChristian MuellerDavid WoodRobin BrownTimothy HillSteven WebsterHenry RamirezMichael RomeroJody HunterCaitlyn SmithDesiree CastroMelanie EsparzaHolly McphersonZachary RiveraChristine HillBrandon FlowersMichael TuckerMisty HatfieldChristine BurtonJames SmithTracy SteinCharles HoltAmy BrownSummer HuntTodd WilliamsSteven NelsonMelissa TranShelby RodriguezBrian MoralesJennifer HuangElizabeth MunozSteven NewtonRobyn HernandezNicholas JonesCurtis LeeDr. Andrea RoseWendy PetersonJennifer HernandezCorey BerryNicole WilliamsRita ReynoldsSara OwensEvan MooreSarah BryantGail CampbellDylan FrancoLindsey NobleMatthew JacksonMorgan ThomasElizabeth ChaseErnest BarnesRichard SheltonKaren BridgesCynthia StoneKristin SloanJennifer CunninghamRebecca ChapmanStacey TerryJohn ShawMr. Eric GordonAmber DiazRachel KellyAshley WalterDaniel HaleyRobert HendrixDonna HolmesKenneth HowardDonald MillsMichael ScottThomas SandersTeresa SullivanBriana LucasKyle RobertsSheri ThomasJordan PattersonDeborah RollinsAllison WhiteTimothy StewartAmanda NelsonSydney KimThomas HinesMichael FoleyAnthony WadeRobert PerezWendy FinleySabrina RasmussenBilly Franco PhDJason FlemingMaxwell LeonardJonathan CooperRandy BlakeMatthew MillsTracy EspinozaBrandy KellerAnita ScottDiana BradleyJohn GonzalezAngela SimpsonHannah HicksCody WilcoxShane DavisThomas WallsDr. Alexander Chang PhDMr. Robert HendricksKimberly JonesMichele MooreLaura MillerJennifer GonzalezVanessa GarciaGerald KimWendy ShepardHarold PetersonEddie WilliamsShawn ObrienRobert HaneyKathryn GonzalesAmy RiceHannah BruceMichele TerryJennifer JohnsonDavid WrightCarlos SmithErnest WongWilliam PottsMark JeffersonNicole RollinsJohn QuinnAndrew ReidKristen KingMatthew WilsonArthur LeeLori WilliamsDaniel GarciaMs. Stephanie Schwartz DDSLoretta PerezRandall BanksAdrian DavisDebra SmithMary LawsonWhitney EstesMorgan AllenSteven HansonAustin KellyGrace HarrisonJose SchmittNatasha DaviesLawrence ZhangMichael BoydBarbara AndersonShannon BlairCarolyn HawkinsCharles MorrisDerrick CarrollCynthia MartinezJesus BooneRebecca JohnsonAndrew AllisonMadeline MonroeCristina HobbsLindsey NavarroMichael NielsenJason BrownBreanna MooreDonald MartinezAbigail EspinozaAdam GriffinKarla McneilRebecca KnappAlicia JohnsonGabriel ArroyoEdward EdwardsDaniel JohnsonKevin LongDr. Devin Sharp PhDKenneth AriasShannon TateKrystal MarshallAlexander McculloughRichard SmithMeagan BakerDavid FullerChad SmithRichard ReyesMadison WagnerWilliam BowenAnthony AlvaradoBrittney Hammond DVMBrandon BrownKristopher WrightMark WarrenElizabeth FrazierMark BaileyChristopher MontgomeryElizabeth WallerLouis WoodsBrandy MitchellRoger KingTara DouglasMelissa OwensDavid GonzalezTodd WilliamsNathaniel OconnellTravis GreenLuke FryDouglas WoodsChristopher SilvaJacob TerryNancy HarrisonMichael SullivanMiss Norma McfarlandLaurie DoughertyJoshua TaylorAndrew CampbellHeather BellBradley MartinezAmy LeeDavid GoodAaron NelsonRobert TylerJaclyn WilliamsJoe KochDerek LopezAngela BryantWalter MaxwellDennis KleinNancy NelsonJason DrakeMary AcevedoDakota AdamsDaryl GregoryKathleen LoveJames ChavezDawn LewisEric ThompsonBrittany EdwardsCharles BaileyGina SimsJohn McdanielHeather ScottChristine GarciaTracy LoweryJay RobertsBrandon OrtizElizabeth EllisonPatricia WoodTroy MorganAdriana WallEric LewisRobert DukeCarol TorresRobert HooperMandy HensleyKayla PetersenReginald MolinaTasha GrayDawn ChristensenMarcus WilsonJason RodriguezKimberly FisherMichael JohnsonPatricia VillanuevaDavid TorresHeather RobinsonKathryn BernardDebbie TurnerKayla BurtonAmanda BatesKathleen KnoxMr. Colton Collins IIJamie MasonDwayne SmithCynthia CastilloBrandon WilliamsCrystal MaldonadoHaley GreenKimberly PorterElizabeth CarrilloJames HowellAnthony WelchTammie RogersSteven LeSharon PadillaJonathan GardnerJulie DavisStacie HollandDiana GarrettJessica SchmidtMallory GravesKerry HendersonBrandon VaughnAnita WilsonNancy SmithAshley LopezMichael ParkMr. Mason Hernandez MDCindy PowellKayla ScottKimberly JohnstonAnn FloresBrittney AdamsPatricia MillerJonathan GallowayVeronica GriffithMichelle RamosJoe NunezKathy BushEmily HessChase HortonBrittany CarrCharles GonzalezThomas AlvarezJason OrtizRhonda FergusonBrenda DixonKenneth BrooksTyler SmithAlison AndersonBethany HarveyNicholas CostaRyan AllenGabriel Ashley'",
      "\nDuring handling of the above exception, another exception occurred:\n",
      "\u001b[1;31mValueError\u001b[0m                                Traceback (most recent call last)",
      "File \u001b[1;32m~\\.anaconda\\Python\\Lib\\site-packages\\pandas\\core\\nanops.py:1696\u001b[0m, in \u001b[0;36m_ensure_numeric\u001b[1;34m(x)\u001b[0m\n\u001b[0;32m   1695\u001b[0m \u001b[38;5;28;01mtry\u001b[39;00m:\n\u001b[1;32m-> 1696\u001b[0m     x \u001b[38;5;241m=\u001b[39m \u001b[38;5;28mcomplex\u001b[39m(x)\n\u001b[0;32m   1697\u001b[0m \u001b[38;5;28;01mexcept\u001b[39;00m \u001b[38;5;167;01mValueError\u001b[39;00m \u001b[38;5;28;01mas\u001b[39;00m err:\n\u001b[0;32m   1698\u001b[0m     \u001b[38;5;66;03m# e.g. \"foo\"\u001b[39;00m\n",
      "\u001b[1;31mValueError\u001b[0m: complex() arg is a malformed string",
      "\nThe above exception was the direct cause of the following exception:\n",
      "\u001b[1;31mTypeError\u001b[0m                                 Traceback (most recent call last)",
      "Cell \u001b[1;32mIn[26], line 2\u001b[0m\n\u001b[0;32m      1\u001b[0m \u001b[38;5;66;03m# Group by `school_name` and take the mean of the `math_score` column for each.\u001b[39;00m\n\u001b[1;32m----> 2\u001b[0m ninth_grade_math_scores \u001b[38;5;241m=\u001b[39m ninth_graders\u001b[38;5;241m.\u001b[39mgroupby([\u001b[38;5;124m\"\u001b[39m\u001b[38;5;124mschool_name\u001b[39m\u001b[38;5;124m\"\u001b[39m])\u001b[38;5;241m.\u001b[39mmean()[\u001b[38;5;124m\"\u001b[39m\u001b[38;5;124mmath_score\u001b[39m\u001b[38;5;124m\"\u001b[39m]\n\u001b[0;32m      3\u001b[0m tenth_grade_math_scores \u001b[38;5;241m=\u001b[39m tenth_graders\u001b[38;5;241m.\u001b[39mgroupby([\u001b[38;5;124m\"\u001b[39m\u001b[38;5;124mschool_name\u001b[39m\u001b[38;5;124m\"\u001b[39m])\u001b[38;5;241m.\u001b[39mmean()[\u001b[38;5;124m\"\u001b[39m\u001b[38;5;124mmath_score\u001b[39m\u001b[38;5;124m\"\u001b[39m]\n\u001b[0;32m      4\u001b[0m eleventh_grade_math_scores \u001b[38;5;241m=\u001b[39m eleventh_graders\u001b[38;5;241m.\u001b[39mgroupby([\u001b[38;5;124m\"\u001b[39m\u001b[38;5;124mschool_name\u001b[39m\u001b[38;5;124m\"\u001b[39m])\u001b[38;5;241m.\u001b[39mmean()[\u001b[38;5;124m\"\u001b[39m\u001b[38;5;124mmath_score\u001b[39m\u001b[38;5;124m\"\u001b[39m]\n",
      "File \u001b[1;32m~\\.anaconda\\Python\\Lib\\site-packages\\pandas\\core\\groupby\\groupby.py:1855\u001b[0m, in \u001b[0;36mGroupBy.mean\u001b[1;34m(self, numeric_only, engine, engine_kwargs)\u001b[0m\n\u001b[0;32m   1853\u001b[0m     \u001b[38;5;28;01mreturn\u001b[39;00m \u001b[38;5;28mself\u001b[39m\u001b[38;5;241m.\u001b[39m_numba_agg_general(sliding_mean, engine_kwargs)\n\u001b[0;32m   1854\u001b[0m \u001b[38;5;28;01melse\u001b[39;00m:\n\u001b[1;32m-> 1855\u001b[0m     result \u001b[38;5;241m=\u001b[39m \u001b[38;5;28mself\u001b[39m\u001b[38;5;241m.\u001b[39m_cython_agg_general(\n\u001b[0;32m   1856\u001b[0m         \u001b[38;5;124m\"\u001b[39m\u001b[38;5;124mmean\u001b[39m\u001b[38;5;124m\"\u001b[39m,\n\u001b[0;32m   1857\u001b[0m         alt\u001b[38;5;241m=\u001b[39m\u001b[38;5;28;01mlambda\u001b[39;00m x: Series(x)\u001b[38;5;241m.\u001b[39mmean(numeric_only\u001b[38;5;241m=\u001b[39mnumeric_only),\n\u001b[0;32m   1858\u001b[0m         numeric_only\u001b[38;5;241m=\u001b[39mnumeric_only,\n\u001b[0;32m   1859\u001b[0m     )\n\u001b[0;32m   1860\u001b[0m     \u001b[38;5;28;01mreturn\u001b[39;00m result\u001b[38;5;241m.\u001b[39m__finalize__(\u001b[38;5;28mself\u001b[39m\u001b[38;5;241m.\u001b[39mobj, method\u001b[38;5;241m=\u001b[39m\u001b[38;5;124m\"\u001b[39m\u001b[38;5;124mgroupby\u001b[39m\u001b[38;5;124m\"\u001b[39m)\n",
      "File \u001b[1;32m~\\.anaconda\\Python\\Lib\\site-packages\\pandas\\core\\groupby\\groupby.py:1507\u001b[0m, in \u001b[0;36mGroupBy._cython_agg_general\u001b[1;34m(self, how, alt, numeric_only, min_count, **kwargs)\u001b[0m\n\u001b[0;32m   1503\u001b[0m         result \u001b[38;5;241m=\u001b[39m \u001b[38;5;28mself\u001b[39m\u001b[38;5;241m.\u001b[39m_agg_py_fallback(values, ndim\u001b[38;5;241m=\u001b[39mdata\u001b[38;5;241m.\u001b[39mndim, alt\u001b[38;5;241m=\u001b[39malt)\n\u001b[0;32m   1505\u001b[0m     \u001b[38;5;28;01mreturn\u001b[39;00m result\n\u001b[1;32m-> 1507\u001b[0m new_mgr \u001b[38;5;241m=\u001b[39m data\u001b[38;5;241m.\u001b[39mgrouped_reduce(array_func)\n\u001b[0;32m   1508\u001b[0m res \u001b[38;5;241m=\u001b[39m \u001b[38;5;28mself\u001b[39m\u001b[38;5;241m.\u001b[39m_wrap_agged_manager(new_mgr)\n\u001b[0;32m   1509\u001b[0m out \u001b[38;5;241m=\u001b[39m \u001b[38;5;28mself\u001b[39m\u001b[38;5;241m.\u001b[39m_wrap_aggregated_output(res)\n",
      "File \u001b[1;32m~\\.anaconda\\Python\\Lib\\site-packages\\pandas\\core\\internals\\managers.py:1503\u001b[0m, in \u001b[0;36mBlockManager.grouped_reduce\u001b[1;34m(self, func)\u001b[0m\n\u001b[0;32m   1499\u001b[0m \u001b[38;5;28;01mif\u001b[39;00m blk\u001b[38;5;241m.\u001b[39mis_object:\n\u001b[0;32m   1500\u001b[0m     \u001b[38;5;66;03m# split on object-dtype blocks bc some columns may raise\u001b[39;00m\n\u001b[0;32m   1501\u001b[0m     \u001b[38;5;66;03m#  while others do not.\u001b[39;00m\n\u001b[0;32m   1502\u001b[0m     \u001b[38;5;28;01mfor\u001b[39;00m sb \u001b[38;5;129;01min\u001b[39;00m blk\u001b[38;5;241m.\u001b[39m_split():\n\u001b[1;32m-> 1503\u001b[0m         applied \u001b[38;5;241m=\u001b[39m sb\u001b[38;5;241m.\u001b[39mapply(func)\n\u001b[0;32m   1504\u001b[0m         result_blocks \u001b[38;5;241m=\u001b[39m extend_blocks(applied, result_blocks)\n\u001b[0;32m   1505\u001b[0m \u001b[38;5;28;01melse\u001b[39;00m:\n",
      "File \u001b[1;32m~\\.anaconda\\Python\\Lib\\site-packages\\pandas\\core\\internals\\blocks.py:329\u001b[0m, in \u001b[0;36mBlock.apply\u001b[1;34m(self, func, **kwargs)\u001b[0m\n\u001b[0;32m    323\u001b[0m \u001b[38;5;129m@final\u001b[39m\n\u001b[0;32m    324\u001b[0m \u001b[38;5;28;01mdef\u001b[39;00m \u001b[38;5;21mapply\u001b[39m(\u001b[38;5;28mself\u001b[39m, func, \u001b[38;5;241m*\u001b[39m\u001b[38;5;241m*\u001b[39mkwargs) \u001b[38;5;241m-\u001b[39m\u001b[38;5;241m>\u001b[39m \u001b[38;5;28mlist\u001b[39m[Block]:\n\u001b[0;32m    325\u001b[0m \u001b[38;5;250m    \u001b[39m\u001b[38;5;124;03m\"\"\"\u001b[39;00m\n\u001b[0;32m    326\u001b[0m \u001b[38;5;124;03m    apply the function to my values; return a block if we are not\u001b[39;00m\n\u001b[0;32m    327\u001b[0m \u001b[38;5;124;03m    one\u001b[39;00m\n\u001b[0;32m    328\u001b[0m \u001b[38;5;124;03m    \"\"\"\u001b[39;00m\n\u001b[1;32m--> 329\u001b[0m     result \u001b[38;5;241m=\u001b[39m func(\u001b[38;5;28mself\u001b[39m\u001b[38;5;241m.\u001b[39mvalues, \u001b[38;5;241m*\u001b[39m\u001b[38;5;241m*\u001b[39mkwargs)\n\u001b[0;32m    331\u001b[0m     \u001b[38;5;28;01mreturn\u001b[39;00m \u001b[38;5;28mself\u001b[39m\u001b[38;5;241m.\u001b[39m_split_op_result(result)\n",
      "File \u001b[1;32m~\\.anaconda\\Python\\Lib\\site-packages\\pandas\\core\\groupby\\groupby.py:1503\u001b[0m, in \u001b[0;36mGroupBy._cython_agg_general.<locals>.array_func\u001b[1;34m(values)\u001b[0m\n\u001b[0;32m   1490\u001b[0m     result \u001b[38;5;241m=\u001b[39m \u001b[38;5;28mself\u001b[39m\u001b[38;5;241m.\u001b[39mgrouper\u001b[38;5;241m.\u001b[39m_cython_operation(\n\u001b[0;32m   1491\u001b[0m         \u001b[38;5;124m\"\u001b[39m\u001b[38;5;124maggregate\u001b[39m\u001b[38;5;124m\"\u001b[39m,\n\u001b[0;32m   1492\u001b[0m         values,\n\u001b[1;32m   (...)\u001b[0m\n\u001b[0;32m   1496\u001b[0m         \u001b[38;5;241m*\u001b[39m\u001b[38;5;241m*\u001b[39mkwargs,\n\u001b[0;32m   1497\u001b[0m     )\n\u001b[0;32m   1498\u001b[0m \u001b[38;5;28;01mexcept\u001b[39;00m \u001b[38;5;167;01mNotImplementedError\u001b[39;00m:\n\u001b[0;32m   1499\u001b[0m     \u001b[38;5;66;03m# generally if we have numeric_only=False\u001b[39;00m\n\u001b[0;32m   1500\u001b[0m     \u001b[38;5;66;03m# and non-applicable functions\u001b[39;00m\n\u001b[0;32m   1501\u001b[0m     \u001b[38;5;66;03m# try to python agg\u001b[39;00m\n\u001b[0;32m   1502\u001b[0m     \u001b[38;5;66;03m# TODO: shouldn't min_count matter?\u001b[39;00m\n\u001b[1;32m-> 1503\u001b[0m     result \u001b[38;5;241m=\u001b[39m \u001b[38;5;28mself\u001b[39m\u001b[38;5;241m.\u001b[39m_agg_py_fallback(values, ndim\u001b[38;5;241m=\u001b[39mdata\u001b[38;5;241m.\u001b[39mndim, alt\u001b[38;5;241m=\u001b[39malt)\n\u001b[0;32m   1505\u001b[0m \u001b[38;5;28;01mreturn\u001b[39;00m result\n",
      "File \u001b[1;32m~\\.anaconda\\Python\\Lib\\site-packages\\pandas\\core\\groupby\\groupby.py:1457\u001b[0m, in \u001b[0;36mGroupBy._agg_py_fallback\u001b[1;34m(self, values, ndim, alt)\u001b[0m\n\u001b[0;32m   1452\u001b[0m     ser \u001b[38;5;241m=\u001b[39m df\u001b[38;5;241m.\u001b[39miloc[:, \u001b[38;5;241m0\u001b[39m]\n\u001b[0;32m   1454\u001b[0m \u001b[38;5;66;03m# We do not get here with UDFs, so we know that our dtype\u001b[39;00m\n\u001b[0;32m   1455\u001b[0m \u001b[38;5;66;03m#  should always be preserved by the implemented aggregations\u001b[39;00m\n\u001b[0;32m   1456\u001b[0m \u001b[38;5;66;03m# TODO: Is this exactly right; see WrappedCythonOp get_result_dtype?\u001b[39;00m\n\u001b[1;32m-> 1457\u001b[0m res_values \u001b[38;5;241m=\u001b[39m \u001b[38;5;28mself\u001b[39m\u001b[38;5;241m.\u001b[39mgrouper\u001b[38;5;241m.\u001b[39magg_series(ser, alt, preserve_dtype\u001b[38;5;241m=\u001b[39m\u001b[38;5;28;01mTrue\u001b[39;00m)\n\u001b[0;32m   1459\u001b[0m \u001b[38;5;28;01mif\u001b[39;00m \u001b[38;5;28misinstance\u001b[39m(values, Categorical):\n\u001b[0;32m   1460\u001b[0m     \u001b[38;5;66;03m# Because we only get here with known dtype-preserving\u001b[39;00m\n\u001b[0;32m   1461\u001b[0m     \u001b[38;5;66;03m#  reductions, we cast back to Categorical.\u001b[39;00m\n\u001b[0;32m   1462\u001b[0m     \u001b[38;5;66;03m# TODO: if we ever get \"rank\" working, exclude it here.\u001b[39;00m\n\u001b[0;32m   1463\u001b[0m     res_values \u001b[38;5;241m=\u001b[39m \u001b[38;5;28mtype\u001b[39m(values)\u001b[38;5;241m.\u001b[39m_from_sequence(res_values, dtype\u001b[38;5;241m=\u001b[39mvalues\u001b[38;5;241m.\u001b[39mdtype)\n",
      "File \u001b[1;32m~\\.anaconda\\Python\\Lib\\site-packages\\pandas\\core\\groupby\\ops.py:994\u001b[0m, in \u001b[0;36mBaseGrouper.agg_series\u001b[1;34m(self, obj, func, preserve_dtype)\u001b[0m\n\u001b[0;32m    987\u001b[0m \u001b[38;5;28;01mif\u001b[39;00m \u001b[38;5;28mlen\u001b[39m(obj) \u001b[38;5;241m>\u001b[39m \u001b[38;5;241m0\u001b[39m \u001b[38;5;129;01mand\u001b[39;00m \u001b[38;5;129;01mnot\u001b[39;00m \u001b[38;5;28misinstance\u001b[39m(obj\u001b[38;5;241m.\u001b[39m_values, np\u001b[38;5;241m.\u001b[39mndarray):\n\u001b[0;32m    988\u001b[0m     \u001b[38;5;66;03m# we can preserve a little bit more aggressively with EA dtype\u001b[39;00m\n\u001b[0;32m    989\u001b[0m     \u001b[38;5;66;03m#  because maybe_cast_pointwise_result will do a try/except\u001b[39;00m\n\u001b[0;32m    990\u001b[0m     \u001b[38;5;66;03m#  with _from_sequence.  NB we are assuming here that _from_sequence\u001b[39;00m\n\u001b[0;32m    991\u001b[0m     \u001b[38;5;66;03m#  is sufficiently strict that it casts appropriately.\u001b[39;00m\n\u001b[0;32m    992\u001b[0m     preserve_dtype \u001b[38;5;241m=\u001b[39m \u001b[38;5;28;01mTrue\u001b[39;00m\n\u001b[1;32m--> 994\u001b[0m result \u001b[38;5;241m=\u001b[39m \u001b[38;5;28mself\u001b[39m\u001b[38;5;241m.\u001b[39m_aggregate_series_pure_python(obj, func)\n\u001b[0;32m    996\u001b[0m npvalues \u001b[38;5;241m=\u001b[39m lib\u001b[38;5;241m.\u001b[39mmaybe_convert_objects(result, try_float\u001b[38;5;241m=\u001b[39m\u001b[38;5;28;01mFalse\u001b[39;00m)\n\u001b[0;32m    997\u001b[0m \u001b[38;5;28;01mif\u001b[39;00m preserve_dtype:\n",
      "File \u001b[1;32m~\\.anaconda\\Python\\Lib\\site-packages\\pandas\\core\\groupby\\ops.py:1015\u001b[0m, in \u001b[0;36mBaseGrouper._aggregate_series_pure_python\u001b[1;34m(self, obj, func)\u001b[0m\n\u001b[0;32m   1012\u001b[0m splitter \u001b[38;5;241m=\u001b[39m \u001b[38;5;28mself\u001b[39m\u001b[38;5;241m.\u001b[39m_get_splitter(obj, axis\u001b[38;5;241m=\u001b[39m\u001b[38;5;241m0\u001b[39m)\n\u001b[0;32m   1014\u001b[0m \u001b[38;5;28;01mfor\u001b[39;00m i, group \u001b[38;5;129;01min\u001b[39;00m \u001b[38;5;28menumerate\u001b[39m(splitter):\n\u001b[1;32m-> 1015\u001b[0m     res \u001b[38;5;241m=\u001b[39m func(group)\n\u001b[0;32m   1016\u001b[0m     res \u001b[38;5;241m=\u001b[39m libreduction\u001b[38;5;241m.\u001b[39mextract_result(res)\n\u001b[0;32m   1018\u001b[0m     \u001b[38;5;28;01mif\u001b[39;00m \u001b[38;5;129;01mnot\u001b[39;00m initialized:\n\u001b[0;32m   1019\u001b[0m         \u001b[38;5;66;03m# We only do this validation on the first iteration\u001b[39;00m\n",
      "File \u001b[1;32m~\\.anaconda\\Python\\Lib\\site-packages\\pandas\\core\\groupby\\groupby.py:1857\u001b[0m, in \u001b[0;36mGroupBy.mean.<locals>.<lambda>\u001b[1;34m(x)\u001b[0m\n\u001b[0;32m   1853\u001b[0m     \u001b[38;5;28;01mreturn\u001b[39;00m \u001b[38;5;28mself\u001b[39m\u001b[38;5;241m.\u001b[39m_numba_agg_general(sliding_mean, engine_kwargs)\n\u001b[0;32m   1854\u001b[0m \u001b[38;5;28;01melse\u001b[39;00m:\n\u001b[0;32m   1855\u001b[0m     result \u001b[38;5;241m=\u001b[39m \u001b[38;5;28mself\u001b[39m\u001b[38;5;241m.\u001b[39m_cython_agg_general(\n\u001b[0;32m   1856\u001b[0m         \u001b[38;5;124m\"\u001b[39m\u001b[38;5;124mmean\u001b[39m\u001b[38;5;124m\"\u001b[39m,\n\u001b[1;32m-> 1857\u001b[0m         alt\u001b[38;5;241m=\u001b[39m\u001b[38;5;28;01mlambda\u001b[39;00m x: Series(x)\u001b[38;5;241m.\u001b[39mmean(numeric_only\u001b[38;5;241m=\u001b[39mnumeric_only),\n\u001b[0;32m   1858\u001b[0m         numeric_only\u001b[38;5;241m=\u001b[39mnumeric_only,\n\u001b[0;32m   1859\u001b[0m     )\n\u001b[0;32m   1860\u001b[0m     \u001b[38;5;28;01mreturn\u001b[39;00m result\u001b[38;5;241m.\u001b[39m__finalize__(\u001b[38;5;28mself\u001b[39m\u001b[38;5;241m.\u001b[39mobj, method\u001b[38;5;241m=\u001b[39m\u001b[38;5;124m\"\u001b[39m\u001b[38;5;124mgroupby\u001b[39m\u001b[38;5;124m\"\u001b[39m)\n",
      "File \u001b[1;32m~\\.anaconda\\Python\\Lib\\site-packages\\pandas\\core\\generic.py:11556\u001b[0m, in \u001b[0;36mNDFrame._add_numeric_operations.<locals>.mean\u001b[1;34m(self, axis, skipna, numeric_only, **kwargs)\u001b[0m\n\u001b[0;32m  11539\u001b[0m \u001b[38;5;129m@doc\u001b[39m(\n\u001b[0;32m  11540\u001b[0m     _num_doc,\n\u001b[0;32m  11541\u001b[0m     desc\u001b[38;5;241m=\u001b[39m\u001b[38;5;124m\"\u001b[39m\u001b[38;5;124mReturn the mean of the values over the requested axis.\u001b[39m\u001b[38;5;124m\"\u001b[39m,\n\u001b[1;32m   (...)\u001b[0m\n\u001b[0;32m  11554\u001b[0m     \u001b[38;5;241m*\u001b[39m\u001b[38;5;241m*\u001b[39mkwargs,\n\u001b[0;32m  11555\u001b[0m ):\n\u001b[1;32m> 11556\u001b[0m     \u001b[38;5;28;01mreturn\u001b[39;00m NDFrame\u001b[38;5;241m.\u001b[39mmean(\u001b[38;5;28mself\u001b[39m, axis, skipna, numeric_only, \u001b[38;5;241m*\u001b[39m\u001b[38;5;241m*\u001b[39mkwargs)\n",
      "File \u001b[1;32m~\\.anaconda\\Python\\Lib\\site-packages\\pandas\\core\\generic.py:11201\u001b[0m, in \u001b[0;36mNDFrame.mean\u001b[1;34m(self, axis, skipna, numeric_only, **kwargs)\u001b[0m\n\u001b[0;32m  11194\u001b[0m \u001b[38;5;28;01mdef\u001b[39;00m \u001b[38;5;21mmean\u001b[39m(\n\u001b[0;32m  11195\u001b[0m     \u001b[38;5;28mself\u001b[39m,\n\u001b[0;32m  11196\u001b[0m     axis: Axis \u001b[38;5;241m|\u001b[39m \u001b[38;5;28;01mNone\u001b[39;00m \u001b[38;5;241m=\u001b[39m \u001b[38;5;241m0\u001b[39m,\n\u001b[1;32m   (...)\u001b[0m\n\u001b[0;32m  11199\u001b[0m     \u001b[38;5;241m*\u001b[39m\u001b[38;5;241m*\u001b[39mkwargs,\n\u001b[0;32m  11200\u001b[0m ) \u001b[38;5;241m-\u001b[39m\u001b[38;5;241m>\u001b[39m Series \u001b[38;5;241m|\u001b[39m \u001b[38;5;28mfloat\u001b[39m:\n\u001b[1;32m> 11201\u001b[0m     \u001b[38;5;28;01mreturn\u001b[39;00m \u001b[38;5;28mself\u001b[39m\u001b[38;5;241m.\u001b[39m_stat_function(\n\u001b[0;32m  11202\u001b[0m         \u001b[38;5;124m\"\u001b[39m\u001b[38;5;124mmean\u001b[39m\u001b[38;5;124m\"\u001b[39m, nanops\u001b[38;5;241m.\u001b[39mnanmean, axis, skipna, numeric_only, \u001b[38;5;241m*\u001b[39m\u001b[38;5;241m*\u001b[39mkwargs\n\u001b[0;32m  11203\u001b[0m     )\n",
      "File \u001b[1;32m~\\.anaconda\\Python\\Lib\\site-packages\\pandas\\core\\generic.py:11158\u001b[0m, in \u001b[0;36mNDFrame._stat_function\u001b[1;34m(self, name, func, axis, skipna, numeric_only, **kwargs)\u001b[0m\n\u001b[0;32m  11154\u001b[0m     nv\u001b[38;5;241m.\u001b[39mvalidate_stat_func((), kwargs, fname\u001b[38;5;241m=\u001b[39mname)\n\u001b[0;32m  11156\u001b[0m validate_bool_kwarg(skipna, \u001b[38;5;124m\"\u001b[39m\u001b[38;5;124mskipna\u001b[39m\u001b[38;5;124m\"\u001b[39m, none_allowed\u001b[38;5;241m=\u001b[39m\u001b[38;5;28;01mFalse\u001b[39;00m)\n\u001b[1;32m> 11158\u001b[0m \u001b[38;5;28;01mreturn\u001b[39;00m \u001b[38;5;28mself\u001b[39m\u001b[38;5;241m.\u001b[39m_reduce(\n\u001b[0;32m  11159\u001b[0m     func, name\u001b[38;5;241m=\u001b[39mname, axis\u001b[38;5;241m=\u001b[39maxis, skipna\u001b[38;5;241m=\u001b[39mskipna, numeric_only\u001b[38;5;241m=\u001b[39mnumeric_only\n\u001b[0;32m  11160\u001b[0m )\n",
      "File \u001b[1;32m~\\.anaconda\\Python\\Lib\\site-packages\\pandas\\core\\series.py:4670\u001b[0m, in \u001b[0;36mSeries._reduce\u001b[1;34m(self, op, name, axis, skipna, numeric_only, filter_type, **kwds)\u001b[0m\n\u001b[0;32m   4665\u001b[0m     \u001b[38;5;28;01mraise\u001b[39;00m \u001b[38;5;167;01mTypeError\u001b[39;00m(\n\u001b[0;32m   4666\u001b[0m         \u001b[38;5;124mf\u001b[39m\u001b[38;5;124m\"\u001b[39m\u001b[38;5;124mSeries.\u001b[39m\u001b[38;5;132;01m{\u001b[39;00mname\u001b[38;5;132;01m}\u001b[39;00m\u001b[38;5;124m does not allow \u001b[39m\u001b[38;5;132;01m{\u001b[39;00mkwd_name\u001b[38;5;132;01m}\u001b[39;00m\u001b[38;5;124m=\u001b[39m\u001b[38;5;132;01m{\u001b[39;00mnumeric_only\u001b[38;5;132;01m}\u001b[39;00m\u001b[38;5;124m \u001b[39m\u001b[38;5;124m\"\u001b[39m\n\u001b[0;32m   4667\u001b[0m         \u001b[38;5;124m\"\u001b[39m\u001b[38;5;124mwith non-numeric dtypes.\u001b[39m\u001b[38;5;124m\"\u001b[39m\n\u001b[0;32m   4668\u001b[0m     )\n\u001b[0;32m   4669\u001b[0m \u001b[38;5;28;01mwith\u001b[39;00m np\u001b[38;5;241m.\u001b[39merrstate(\u001b[38;5;28mall\u001b[39m\u001b[38;5;241m=\u001b[39m\u001b[38;5;124m\"\u001b[39m\u001b[38;5;124mignore\u001b[39m\u001b[38;5;124m\"\u001b[39m):\n\u001b[1;32m-> 4670\u001b[0m     \u001b[38;5;28;01mreturn\u001b[39;00m op(delegate, skipna\u001b[38;5;241m=\u001b[39mskipna, \u001b[38;5;241m*\u001b[39m\u001b[38;5;241m*\u001b[39mkwds)\n",
      "File \u001b[1;32m~\\.anaconda\\Python\\Lib\\site-packages\\pandas\\core\\nanops.py:96\u001b[0m, in \u001b[0;36mdisallow.__call__.<locals>._f\u001b[1;34m(*args, **kwargs)\u001b[0m\n\u001b[0;32m     94\u001b[0m \u001b[38;5;28;01mtry\u001b[39;00m:\n\u001b[0;32m     95\u001b[0m     \u001b[38;5;28;01mwith\u001b[39;00m np\u001b[38;5;241m.\u001b[39merrstate(invalid\u001b[38;5;241m=\u001b[39m\u001b[38;5;124m\"\u001b[39m\u001b[38;5;124mignore\u001b[39m\u001b[38;5;124m\"\u001b[39m):\n\u001b[1;32m---> 96\u001b[0m         \u001b[38;5;28;01mreturn\u001b[39;00m f(\u001b[38;5;241m*\u001b[39margs, \u001b[38;5;241m*\u001b[39m\u001b[38;5;241m*\u001b[39mkwargs)\n\u001b[0;32m     97\u001b[0m \u001b[38;5;28;01mexcept\u001b[39;00m \u001b[38;5;167;01mValueError\u001b[39;00m \u001b[38;5;28;01mas\u001b[39;00m e:\n\u001b[0;32m     98\u001b[0m     \u001b[38;5;66;03m# we want to transform an object array\u001b[39;00m\n\u001b[0;32m     99\u001b[0m     \u001b[38;5;66;03m# ValueError message to the more typical TypeError\u001b[39;00m\n\u001b[0;32m    100\u001b[0m     \u001b[38;5;66;03m# e.g. this is normally a disallowed function on\u001b[39;00m\n\u001b[0;32m    101\u001b[0m     \u001b[38;5;66;03m# object arrays that contain strings\u001b[39;00m\n\u001b[0;32m    102\u001b[0m     \u001b[38;5;28;01mif\u001b[39;00m is_object_dtype(args[\u001b[38;5;241m0\u001b[39m]):\n",
      "File \u001b[1;32m~\\.anaconda\\Python\\Lib\\site-packages\\pandas\\core\\nanops.py:158\u001b[0m, in \u001b[0;36mbottleneck_switch.__call__.<locals>.f\u001b[1;34m(values, axis, skipna, **kwds)\u001b[0m\n\u001b[0;32m    156\u001b[0m         result \u001b[38;5;241m=\u001b[39m alt(values, axis\u001b[38;5;241m=\u001b[39maxis, skipna\u001b[38;5;241m=\u001b[39mskipna, \u001b[38;5;241m*\u001b[39m\u001b[38;5;241m*\u001b[39mkwds)\n\u001b[0;32m    157\u001b[0m \u001b[38;5;28;01melse\u001b[39;00m:\n\u001b[1;32m--> 158\u001b[0m     result \u001b[38;5;241m=\u001b[39m alt(values, axis\u001b[38;5;241m=\u001b[39maxis, skipna\u001b[38;5;241m=\u001b[39mskipna, \u001b[38;5;241m*\u001b[39m\u001b[38;5;241m*\u001b[39mkwds)\n\u001b[0;32m    160\u001b[0m \u001b[38;5;28;01mreturn\u001b[39;00m result\n",
      "File \u001b[1;32m~\\.anaconda\\Python\\Lib\\site-packages\\pandas\\core\\nanops.py:421\u001b[0m, in \u001b[0;36m_datetimelike_compat.<locals>.new_func\u001b[1;34m(values, axis, skipna, mask, **kwargs)\u001b[0m\n\u001b[0;32m    418\u001b[0m \u001b[38;5;28;01mif\u001b[39;00m datetimelike \u001b[38;5;129;01mand\u001b[39;00m mask \u001b[38;5;129;01mis\u001b[39;00m \u001b[38;5;28;01mNone\u001b[39;00m:\n\u001b[0;32m    419\u001b[0m     mask \u001b[38;5;241m=\u001b[39m isna(values)\n\u001b[1;32m--> 421\u001b[0m result \u001b[38;5;241m=\u001b[39m func(values, axis\u001b[38;5;241m=\u001b[39maxis, skipna\u001b[38;5;241m=\u001b[39mskipna, mask\u001b[38;5;241m=\u001b[39mmask, \u001b[38;5;241m*\u001b[39m\u001b[38;5;241m*\u001b[39mkwargs)\n\u001b[0;32m    423\u001b[0m \u001b[38;5;28;01mif\u001b[39;00m datetimelike:\n\u001b[0;32m    424\u001b[0m     result \u001b[38;5;241m=\u001b[39m _wrap_results(result, orig_values\u001b[38;5;241m.\u001b[39mdtype, fill_value\u001b[38;5;241m=\u001b[39miNaT)\n",
      "File \u001b[1;32m~\\.anaconda\\Python\\Lib\\site-packages\\pandas\\core\\nanops.py:727\u001b[0m, in \u001b[0;36mnanmean\u001b[1;34m(values, axis, skipna, mask)\u001b[0m\n\u001b[0;32m    724\u001b[0m     dtype_count \u001b[38;5;241m=\u001b[39m dtype\n\u001b[0;32m    726\u001b[0m count \u001b[38;5;241m=\u001b[39m _get_counts(values\u001b[38;5;241m.\u001b[39mshape, mask, axis, dtype\u001b[38;5;241m=\u001b[39mdtype_count)\n\u001b[1;32m--> 727\u001b[0m the_sum \u001b[38;5;241m=\u001b[39m _ensure_numeric(values\u001b[38;5;241m.\u001b[39msum(axis, dtype\u001b[38;5;241m=\u001b[39mdtype_sum))\n\u001b[0;32m    729\u001b[0m \u001b[38;5;28;01mif\u001b[39;00m axis \u001b[38;5;129;01mis\u001b[39;00m \u001b[38;5;129;01mnot\u001b[39;00m \u001b[38;5;28;01mNone\u001b[39;00m \u001b[38;5;129;01mand\u001b[39;00m \u001b[38;5;28mgetattr\u001b[39m(the_sum, \u001b[38;5;124m\"\u001b[39m\u001b[38;5;124mndim\u001b[39m\u001b[38;5;124m\"\u001b[39m, \u001b[38;5;28;01mFalse\u001b[39;00m):\n\u001b[0;32m    730\u001b[0m     count \u001b[38;5;241m=\u001b[39m cast(np\u001b[38;5;241m.\u001b[39mndarray, count)\n",
      "File \u001b[1;32m~\\.anaconda\\Python\\Lib\\site-packages\\pandas\\core\\nanops.py:1699\u001b[0m, in \u001b[0;36m_ensure_numeric\u001b[1;34m(x)\u001b[0m\n\u001b[0;32m   1696\u001b[0m             x \u001b[38;5;241m=\u001b[39m \u001b[38;5;28mcomplex\u001b[39m(x)\n\u001b[0;32m   1697\u001b[0m         \u001b[38;5;28;01mexcept\u001b[39;00m \u001b[38;5;167;01mValueError\u001b[39;00m \u001b[38;5;28;01mas\u001b[39;00m err:\n\u001b[0;32m   1698\u001b[0m             \u001b[38;5;66;03m# e.g. \"foo\"\u001b[39;00m\n\u001b[1;32m-> 1699\u001b[0m             \u001b[38;5;28;01mraise\u001b[39;00m \u001b[38;5;167;01mTypeError\u001b[39;00m(\u001b[38;5;124mf\u001b[39m\u001b[38;5;124m\"\u001b[39m\u001b[38;5;124mCould not convert \u001b[39m\u001b[38;5;132;01m{\u001b[39;00mx\u001b[38;5;132;01m}\u001b[39;00m\u001b[38;5;124m to numeric\u001b[39m\u001b[38;5;124m\"\u001b[39m) \u001b[38;5;28;01mfrom\u001b[39;00m \u001b[38;5;21;01merr\u001b[39;00m\n\u001b[0;32m   1700\u001b[0m \u001b[38;5;28;01mreturn\u001b[39;00m x\n",
      "\u001b[1;31mTypeError\u001b[0m: Could not convert Blake MartinFrank MarshCharles Goodman Jr.Aaron MoyerMichael DeanRobin VegaKenneth JuarezGerald SmithDavid HernandezMatthew SinghJeremiah WhiteLisa AguilarDanielle HarrisKristin JohnsonKevin MartinAnna MyersTimothy HigginsAnthony FordNicole RoseChristopher LongMr. Michael AllenCasey JonesJoseph KellyDebra BrownJacqueline SheaSara MurphyNatalie GrantPeter MillerDavid CannonValerie MayApril FisherBradley HunterJohn WilliamsonAnthony SpencerJoseph AllenAngela WallJames FerrellRobert RodriguezDarius WilliamsBrian TrevinoAndrea GreenAustin JohnstonGuy ThomasDesiree GordonScott ClarkLinda SinghWilliam PerryTerry SantanaApril StevensAnthony TorresWayne GuerreroMonique CarterChristine LeeJay SmithRobert ReyesRichard MacdonaldJonathan TuckerChelsea KempMelissa BowmanWilliam SimpsonAmanda DavisBrandon MedinaPatricia WilliamsJeremy CharlesTyler GonzalezKristen GreenRichard WallerLaura LindseyMark AlvarezMatthew ThomasHeather GouldJacqueline SnowApril Calderon MDMichael WaltersErin HaleMichael AndersonPeggy BautistaGina BarberDavid HarrisNathan JonesAdam CruzPeter GonzalezBarbara RobinsonSteven WongAdam HerringPatricia MillerJim StevensJordan MclaughlinVincent MartinTracey BensonNatasha EverettErin ParksStephen ThompsonDaniel KingBenjamin MurrayKristen SmithJohn CarrilloMark BrowningEric Park DDSBrian MosleyPatricia MarshJennifer AndersonDanielle HoodMatthew CarterStephanie ThomasCathy MercadoSheila LewisPatrick Barker PhDAna BurnsChloe DownsJoshua FloresBianca BoyerWilliam ThompsonJonathan LongSamantha PattersonEmily PowellLouis WatersNathan DominguezKristin KellerJordan StewartBrian DunnEmily MartinJamie MillerNathan AtkinsonKelly MartinezCarlos RamirezAllen Morris Jr.Sarah RobertsPatricia HoBreanna MorrisEmily TurnerAlyssa RodriguezRichard JohnsonMary GreenMegan MillerWanda BaileyRenee RodriguezJeffrey PayneKari CharlesKelly HarmonShannon WeaverPatty NelsonAndrea JonesDale WhitakerKatherine DeanBrittney HenryAaron RodriguezDr. Carl JamesWilliam FrancisDanielle DyerMichael WagnerAmanda RogersPatricia JonesVictor MartinDr. Kimberly BenjaminMichelle BeckerJoseph NunezKeith AlvarezRicardo VazquezMatthew HawkinsNicole SmithSarah HodgeAmber BlevinsBenjamin BatesThomas MarshallAnna JohnsonRyan Graham MDTerri MillerTaylor DominguezLisa HarrisMichael RobinsonMelissa KellyChase RayTracy RodriguezYvonne WareJake MilesChristopher MyersCindy MurphyDylan JohnsonFrank NewmanLisa MyersKristine KellyMelissa AndersonMarissa BlevinsJason HallJoseph HernandezWanda MaddoxArthur KochNicholas DanielJerry RichardsJoel PittsThomas HerreraJennifer CarlsonJorge McdonaldStephanie Howard MDAlyssa WilliamsonPedro LongJames SmithGregory HerringDaniel BarrettTravis ComptonDaniel RowlandJonathon WillisAdam RodriguezDominique LloydJoyce RobertsJon GriffinJoseph ForbesDustin MarquezSean WellsDeanna CombsDanielle HayesKrystal ReynoldsCarl MartinezBrandon PopeAmanda RodriguezMarco WilliamsErica CollinsPenny NguyenLori LeeLori SmithBryan MooreJaclyn CobbVeronica DiazBarbara LarsenSteven HartmanMegan VillaAlex ConnerDanielle HurleyJames CalhounRyan GreenVeronica GomezWilliam SwansonLauren WestJohn BrownTonya SaundersDavid ThomasCrystal EdwardsCathy RamosChris RobertsKatherine TuckerJustin HillSarah AllenJessica BauerJames RodgersJacqueline EwingJacob ThomasNatalie JohnstonFelicia MatthewsRobert LawrenceJoshua MorganSierra JohnsonTravis HeathMelanie AndersonKenneth GarciaMaria BrockAdam PattonMatthew MezaAmanda JohnsonJesse HernandezPenny DeckerBobby WilliamsMargaret HortonRonnie BarrettAllen OnealGerald LangWilliam HudsonDerek SilvaDarlene LeeHarold JohnstonDonna ReedWanda PhillipsMegan JonesTheresa ShieldsMark LeeErica BakerVirginia BallardAaron AtkinsonBianca Huynh MDDaniel PhillipsThomas JohnsonNicole LopezAdam LambMonica RobersonDouglas RodriguezSarah OrtizDeanna MendozaMelissa Dunn MDLauren KochWilliam FrenchJared WashingtonJames JacksonMelissa SandovalMr. Angel JohnsonChad EvansDonald MyersNicole JohnsonWendy RiveraWilliam PinedaRebecca StoutDerek DiazTravis WebbShane PerezJasmine CampbellMason RaymondVincent EllisJoseph McgeeKatelyn DayAmy BeckerKenneth HughesKimberly FrazierMichael Garcia Jr.April HallJessica MatthewsMr. Daniel Nguyen DDSChristopher KelleyHeather WeaverTaylor GambleSteven BaileyRichard HernandezNancy McclurePaul ClarkeEric ArnoldElizabeth MeyerKaitlin BarrettAnthony PatelApril GillespieJohn SnyderRoy DeckerMatthew JonesKenneth MartinezKevin BrowningChristine IbarraMelissa BrownMichael PerezNorman BurnsJames MarshallTaylor CohenAlejandro CarterAllison GardnerEmily CollierDebbie Brown DVMAmy ShawTaylor MedinaLisa RichardsDana CruzJustin HenryRobert WeberTamara MooreKim StewartAdriana SmithJoshua Kim DDSCarol JohnsonMr. Jesse BellEmily WarrenAlexandra HendricksJulie MoralesJason JohnsonLisa JonesMonica SmithEric EdwardsMichael BurnettDerek MayPaul WoodMiguel JohnsonDouglas HardyKaitlyn ChambersCarlos YoungLindsay LinPhillip WashingtonAlexis MatthewsAndrew ThomasDerek Barker Jr.Jeremy WoodAndrew JimenezJennifer ButlerMrs. Renee GordonMichelle MurrayJennifer StoneDavid KirbySheila YoungHeather WatsonRobert RossKristen LunaDawn MartinezSavannah RamseyWilliam SalasHolly MooreJason CarterRyan SmithBrett EricksonChristina AyalaJames GarciaConnor CobbCrystal BuchananSherri PadillaJustin PowellVanessa TuckerTyler HarperRobert GreerBarry HallMargaret LeeDavid DiazRenee MonroeKristen MitchellSamantha MartinJessica FarmerCarlos BrownMiguel MaciasAlejandra WilliamsonMary GriffinMatthew GrantAnnette RossCarolyn MillerErica MillerMark MclaughlinJamie GibsonMatthew RiggsBetty IrwinFrederick LeeHelen GayCourtney ThompsonDiana ChapmanKenneth DiazKenneth HartmanRachel LopezCassandra BaldwinJose ButlerJohn LoveMrs. Amanda MartinMichael MooreJohn VaughnRebecca ChungDaniel HartMackenzie MasonDavid HarveyChristina ButlerSheila BrownJeffrey GalvanRegina ParkerTracy ChapmanEdward SmithShawn PetersonBryan GuerraHeather StokesMartha BestCynthia WolfeDavid TaylorRebecca HansenJessica CarneyJoshua SanchezRegina GarciaCourtney GibsonBrandon DelacruzTheresa SummersKarina LeePeter RileyChristopher OneillDaniel KleinKatherine EdwardsElizabeth ShermanWilliam BrewerLauren LoganAmanda WalkerAmanda McdanielKevin WilliamsMrs. Pamela GarciaAngela RojasBeth SullivanMarie StoutEmily AllenDanielle Stanton MDConnie BushErica ShawPhilip RobinsonMiguel SmithFrank HoffmanKevin ColemanAndrea HallMark BrownKathleen ValdezJessica WardRebecca GonzalesMike McdanielPamela HughesPamela RitterTimothy ScottStephen LawrenceTracey OchoaBridget BurkeJason WhiteMichelle WashingtonRaymond VargasJeffrey GreenMichael MontgomeryAlejandro BarnettElaine JamesBrianna WhiteAlyssa JenningsTony NelsonLaurie FergusonKelly WileyDustin PetersenChristopher WilkersonDr. David MillerCorey BenjaminCharles PerezKyle DeanTonya WalshWendy DavisJoshua LoveMichael AdamsMrs. Sheena Bailey DVMJoan CaldwellBridget GrahamBrian ChangAlicia ButlerJames BrownDiane VargasMichele OnealZachary Garrett IIIDavid JohnsonKristy PopeMadison BurnsCynthia MooreTaylor ReedNathan PrattAmanda MartinBarbara WhiteMichael GrimesLaura NobleKevin QuinnDavid StoneSeth GreenAmy MooreCarolyn AriasAmy Mcintosh MDChristina KhanDr. Frank AndersonBecky JonesKathleen RamirezCatherine WilsonSandra DuncanJeffrey RivasJordan CruzCindy CruzTina RodriguezDavid RiveraBrian SilvaJoseph MurphyDawn HernandezMichael PatelBreanna MercerDavid PayneRuth ArmstrongJennifer JamesRachael HortonAshley TorresDaniel CherryAmanda FieldsVernon RossMarie HernandezMichael KimKevin BarnettMary WilliamsPaul HallBrittney HughesRonald HickmanMallory HowardKendra YangJames TurnerThomas LewisPhillip BishopAndrea BartonChristopher MillerErin PhillipsHeather HallKatrina AdkinsNicole MitchellPatty RyanLinda GravesMargaret AndersonRichard DeckerDarren BrooksHeather SmithMatthew TaylorCynthia GreenChristopher PhillipsMegan OlsonTiffany SmithVictor SmithAmy ParkerKelly ColemanEric KnappJustin WilliamsMallory AndersonJohn ClarkAnne HansenTina ButlerCody SchaeferThomas Burgess MDJoseph HodgesDaniel MillsAmanda Hale DVMGregory SchneiderClinton NguyenRussell ThompsonMegan FlemingDebbie BlackwellLaura JenkinsJordan AndersonAmanda IbarraJonathan KrauseDr. Daniel BowmanTammy JohnsonLinda HerreraJonathan MartinezChristine JohnsonTanya FisherAngelica HumphreyJustin JohnstonApril RodriguezAmber ThompsonMelissa BanksLori Mitchell DDSAmy SmithRichard DayJennifer MackJames SmithNicole PettyTina HillZachary SchultzMrs. Pam Lewis DVMKelsey HarrisRobert MitchellKelly HopkinsAmanda GrahamAmy Gutierrez DDSDawn RamirezKenneth WardMelody ScottAshley BarryAngela WilkinsTodd SimmonsDavid LunaLeonard CoxPeter TuckerCynthia NelsonPeter MillerAaron GarciaPatrick WhitneyMargaret QuinnAmber MooreMatthew AguilarDenise CarterJared BrownAmber VillanuevaAmy CohenMichael LeeStephanie AriasJenna GreerCameron CordovaJeremy PayneNathan ArroyoRussell BanksJoshua RamirezJay KirkAlicia SchwartzAnna CamachoCarla WilsonJessica WrightWilliam BlackAshley TerryJeffery PowellDaniel SandersMichael GarnerMaria WilliamsBrenda RayChelsea LewisNicholas RamosJennifer WashingtonAudrey WellsBarbara WoodAndrea ThompsonJason CoxSarah RobinsonHeidi MartinJanet ChanJeffrey RobbinsTheresa NicholsAmy HansenJoshua BrownKent ShermanEddie AlvarezYvonne Robinson PhDJennifer RamosTracy MorrisonCrystal JohnsonApril TrujilloLisa SanchezDeborah NelsonKevin GoodwinAbigail PerezDonna RoseAndrew WintersJessica HartLauren KlineGregory AllisonThomas JohnsonVanessa StevensonKathleen BeltranMartha Mcdonald DVMKevin JohnsonDr. Mary SchwartzAnthony MeadowsErnest PowellDavid FergusonMariah HoltNancy MartinStacey ThompsonAndrew RyanMallory ChenErika BurchRobert MorrowAustin ChavezJustin WilsonLisa MurrayJeremy WattsJustin ChenRenee BuckleyShannon PriceBarbara WhiteheadJackie KirkAngel MayerDeborah AndersonJacqueline West DDSAnita ZunigaDavid ChapmanBeverly BauerJessica NguyenMelissa LewisAmanda SchaeferJacqueline Snow MDMarcus RushAngela StewartJorge HoDr. Jennifer SheaChristopher CantuJonathan HaleErin BowersAnthony HernandezEduardo SantiagoDana HaynesClayton Williams DVMNatalie WhitakerFrances WhiteMeghan AdamsStephen FitzgeraldAmy BairdMolly BrownAmanda SloanEric WilliamsEmma VasquezSherry GomezAaron CarterAlan ScottJennifer CannonLindsay NicholsonStephanie JonesJose SmithKimberly MooreMelissa SchultzSteven CalhounJohn BallZachary WilliamsKimberly JacksonKristen WilliamsonSamantha HoffmanDanielle GonzalezCharles IngramTimothy GravesAnna RodriguezAmanda KaneJoseph JonesDebra JacksonErik DunlapMeghan HarperJennifer PinedaJohn WhiteKaren FischerTodd DavisLarry Chandler Jr.Veronica PotterRobert VelezAshley WeissErika JohnsonJesus GordonKathy JacksonAshley WilliamsJuan LopezAnna HaynesDon MurrayJohn GarzaSteven WhiteDavid SalazarDaniel WrightRebecca MolinaBetty EricksonCameron Roman Jr.Kelly PierceSergio McfarlandJeffrey ChavezAmanda GalvanRonald PooleJohn WallaceGina AguilarMelissa SullivanJeffery ToddDaniel BurtonJulie AllisonCarolyn CookMike AllenAngela CostaKarina CalderonFelicia CampbellElizabeth DixonNancy WheelerMichael WatsonJennifer LevinePhilip ArnoldCrystal GonzalesMr. Ian SmithLawrence JohnsonPeter JonesChristopher RamirezNicolas JohnsonStephanie RhodesSarah MillerScott CortezChristopher CarrollWilliam RodriguezWyatt HarrisJacob CarlsonJason PerryJoshua FoxJames PerkinsChristine SanfordSarah SnyderDana ChavezJose HansenMelissa Hunt MDFrank RiveraLeah BishopAudrey FieldsRenee Garcia MDAngela WallJose GoldenAndrew RichardsonCynthia McleanMelissa FordKelsey SmithHeidi MasonLaura JohnsonAmanda MooreRobert AndersonMichael RobbinsSamantha ScottJoseph WareMaria DavisKenneth WatkinsMrs. Lori Rogers MDFrank BlackwellMichele TorresJason FergusonWilliam DurhamNicole HaynesCraig MorganEvan WilsonKenneth OlsonSeth GreenRoberto EscobarJustin SchneiderSarah PadillaAshley GardnerCourtney LutzAlbert SheaJennifer McguireJoseph RamosVictoria BakerClaudia WoodScott HughesCassandra HaasKathryn HannaDiana PhelpsKari HuangSara WellsJordan PetersonFrederick RochaKathryn YoungBrittany HodgesSherry GutierrezJohn GrantBenjamin RoweChelsey VillanuevaAlexandra MccarthyRhonda GarciaJon MatthewsKristen HartmanLynn RivasBrandy WestCarmen ThomasThomas LarsonKathryn CoxTasha ButlerChristopher ThompsonCollin ThomasJulia GeorgeChristopher ShermanAmy BooneJames JensenMonica BerryJonathan MckenzieMrs. Christina Mitchell DDSKatherine BrownJordan BrownElizabeth BrownColton KelleyMelanie KentElizabeth VargasNathan RomanAngela JonesAngela LopezBrian ThomasDouglas HawkinsIan GallagherJeffrey GarrisonTeresa WilliamsJustin MillerJill BakerJessica MitchellJoseph GeorgeCandace FrankEric SotoEmily Duran MDRandall MyersTravis LopezElizabeth GonzalezBrian HoldenTodd Grant Jr.Reginald AlvaradoMark BryantDesiree ClarkJulia ChristianTerry FuentesChristina MartinOlivia RiceKristen NealTimothy BrayJennifer YoungSonya JuarezCharles AveryJohnny BanksJames SanchezScott ProctorJessica MoranRobert FernandezMeredith MckeeKathryn StanleyRichard PooleStephanie GarnerStacey ContrerasCheryl OsborneNathaniel JohnsonRandy LewisMichelle DavisJonathan YoungAngel JacksonMichael KennedyLisa PinedaJennifer MurrayKristopher MurphyRobert WagnerMichael HowellMeagan WhitneyChristopher DavisRhonda LynchTara MarshKeith AndersonAdriana SnyderMelanie MillsAllison JohnsonDebra HowardJustin MartinezDarius AtkinsonTimothy JacksonAlison SmithCatherine HortonAndrew TaylorHunter FitzpatrickSarah KirkKristina GarzaZachary ChavezMrs. Wendy HayesKenneth Santiago MDAnthony JenkinsTeresa LeonardJonathan AdamsDr. Matthew HernandezDouglas HamiltonIan WilliamsTroy ScottChristopher LambLouis Hodges DDSRonald MartinezMonica CochranHarry SnowAmanda ColeJustin LeeSamantha CooperChristopher SmithDiane BradfordJeanette YoungLarry MonroeBradley MurphyNina ThomasMr. Michael GrahamDaniel OlsonAndrew HerreraMichelle FoxMike HillErika LoganJulia HowellWilliam BradleyElizabeth ParkAnthony SmithDonald ReevesJordan WardJeanne Fischer MDWilliam HinesJason SullivanMrs. Amanda RoseRobert HinesKimberly CollinsVeronica McmillanTeresa PerezMatthew McdonaldJason HuntRichard LevinePatricia PerryJohnny SchneiderJessica SmithAlan BurnettBobby NobleCatherine HarrisValerie ObrienRebecca Salazar DDSChristopher NelsonDiana PonceKenneth RaymondRay HoffmanMary GarzaRobert DiazMarie StanleyAmanda SolomonScott BrewerKathy BrightKristen CrossAbigail YoungMichael CooperDavid DavisSteven MyersNancy RossMark EverettSteve WalkerJonathan ByrdNicholas DiazStacy DavisAngela TownsendRichard Cherry DDSTimothy GriffinJames Holland MDNicholas TannerDavid DavisDaniel MartinezLauren CampbellTimothy GomezRobert LandryJamie BaileyKenneth AlexanderMatthew GarciaTanya HawkinsJacob PorterDr. Patricia BakerRebecca FloydMark JordanBryan MayerJenna DickersonMary EatonCynthia GeorgeKathy BurgessBrett JenningsFrank RobersonBrandon GardnerKim LewisEdward MunozDr. Rachel GilbertDonna RiddleChristopher TateMichael DavisLouis McdanielNicole BurgessDavid JensenNicole GoodwinChristopher WelchJared LynchNicole BuckDavid GutierrezStephanie HarrisonWilliam PetersonMolly MasonAlbert WrightJoshua FernandezKendra WardEarl CaldwellShane MartinezElizabeth JohnsonMelissa ParksJennifer PettyMichael LeeAustin MooreDustin MossKristine WadeJeffrey DavisLisa VasquezKenneth Avila Jr.Sergio MayDavid RichardsonAndrew PierceChristian MuellerDavid WoodRobin BrownTimothy HillSteven WebsterHenry RamirezMichael RomeroJody HunterCaitlyn SmithDesiree CastroMelanie EsparzaHolly McphersonZachary RiveraChristine HillBrandon FlowersMichael TuckerMisty HatfieldChristine BurtonJames SmithTracy SteinCharles HoltAmy BrownSummer HuntTodd WilliamsSteven NelsonMelissa TranShelby RodriguezBrian MoralesJennifer HuangElizabeth MunozSteven NewtonRobyn HernandezNicholas JonesCurtis LeeDr. Andrea RoseWendy PetersonJennifer HernandezCorey BerryNicole WilliamsRita ReynoldsSara OwensEvan MooreSarah BryantGail CampbellDylan FrancoLindsey NobleMatthew JacksonMorgan ThomasElizabeth ChaseErnest BarnesRichard SheltonKaren BridgesCynthia StoneKristin SloanJennifer CunninghamRebecca ChapmanStacey TerryJohn ShawMr. Eric GordonAmber DiazRachel KellyAshley WalterDaniel HaleyRobert HendrixDonna HolmesKenneth HowardDonald MillsMichael ScottThomas SandersTeresa SullivanBriana LucasKyle RobertsSheri ThomasJordan PattersonDeborah RollinsAllison WhiteTimothy StewartAmanda NelsonSydney KimThomas HinesMichael FoleyAnthony WadeRobert PerezWendy FinleySabrina RasmussenBilly Franco PhDJason FlemingMaxwell LeonardJonathan CooperRandy BlakeMatthew MillsTracy EspinozaBrandy KellerAnita ScottDiana BradleyJohn GonzalezAngela SimpsonHannah HicksCody WilcoxShane DavisThomas WallsDr. Alexander Chang PhDMr. Robert HendricksKimberly JonesMichele MooreLaura MillerJennifer GonzalezVanessa GarciaGerald KimWendy ShepardHarold PetersonEddie WilliamsShawn ObrienRobert HaneyKathryn GonzalesAmy RiceHannah BruceMichele TerryJennifer JohnsonDavid WrightCarlos SmithErnest WongWilliam PottsMark JeffersonNicole RollinsJohn QuinnAndrew ReidKristen KingMatthew WilsonArthur LeeLori WilliamsDaniel GarciaMs. Stephanie Schwartz DDSLoretta PerezRandall BanksAdrian DavisDebra SmithMary LawsonWhitney EstesMorgan AllenSteven HansonAustin KellyGrace HarrisonJose SchmittNatasha DaviesLawrence ZhangMichael BoydBarbara AndersonShannon BlairCarolyn HawkinsCharles MorrisDerrick CarrollCynthia MartinezJesus BooneRebecca JohnsonAndrew AllisonMadeline MonroeCristina HobbsLindsey NavarroMichael NielsenJason BrownBreanna MooreDonald MartinezAbigail EspinozaAdam GriffinKarla McneilRebecca KnappAlicia JohnsonGabriel ArroyoEdward EdwardsDaniel JohnsonKevin LongDr. Devin Sharp PhDKenneth AriasShannon TateKrystal MarshallAlexander McculloughRichard SmithMeagan BakerDavid FullerChad SmithRichard ReyesMadison WagnerWilliam BowenAnthony AlvaradoBrittney Hammond DVMBrandon BrownKristopher WrightMark WarrenElizabeth FrazierMark BaileyChristopher MontgomeryElizabeth WallerLouis WoodsBrandy MitchellRoger KingTara DouglasMelissa OwensDavid GonzalezTodd WilliamsNathaniel OconnellTravis GreenLuke FryDouglas WoodsChristopher SilvaJacob TerryNancy HarrisonMichael SullivanMiss Norma McfarlandLaurie DoughertyJoshua TaylorAndrew CampbellHeather BellBradley MartinezAmy LeeDavid GoodAaron NelsonRobert TylerJaclyn WilliamsJoe KochDerek LopezAngela BryantWalter MaxwellDennis KleinNancy NelsonJason DrakeMary AcevedoDakota AdamsDaryl GregoryKathleen LoveJames ChavezDawn LewisEric ThompsonBrittany EdwardsCharles BaileyGina SimsJohn McdanielHeather ScottChristine GarciaTracy LoweryJay RobertsBrandon OrtizElizabeth EllisonPatricia WoodTroy MorganAdriana WallEric LewisRobert DukeCarol TorresRobert HooperMandy HensleyKayla PetersenReginald MolinaTasha GrayDawn ChristensenMarcus WilsonJason RodriguezKimberly FisherMichael JohnsonPatricia VillanuevaDavid TorresHeather RobinsonKathryn BernardDebbie TurnerKayla BurtonAmanda BatesKathleen KnoxMr. Colton Collins IIJamie MasonDwayne SmithCynthia CastilloBrandon WilliamsCrystal MaldonadoHaley GreenKimberly PorterElizabeth CarrilloJames HowellAnthony WelchTammie RogersSteven LeSharon PadillaJonathan GardnerJulie DavisStacie HollandDiana GarrettJessica SchmidtMallory GravesKerry HendersonBrandon VaughnAnita WilsonNancy SmithAshley LopezMichael ParkMr. Mason Hernandez MDCindy PowellKayla ScottKimberly JohnstonAnn FloresBrittney AdamsPatricia MillerJonathan GallowayVeronica GriffithMichelle RamosJoe NunezKathy BushEmily HessChase HortonBrittany CarrCharles GonzalezThomas AlvarezJason OrtizRhonda FergusonBrenda DixonKenneth BrooksTyler SmithAlison AndersonBethany HarveyNicholas CostaRyan AllenGabriel Ashley to numeric"
     ]
    }
   ],
   "source": [
    "# Group by `school_name` and take the mean of the `math_score` column for each.\n",
    "ninth_grade_math_scores = ninth_graders.groupby([\"school_name\"]).mean()[\"math_score\"]\n",
    "tenth_grade_math_scores = tenth_graders.groupby([\"school_name\"]).mean()[\"math_score\"]\n",
    "eleventh_grade_math_scores = eleventh_graders.groupby([\"school_name\"]).mean()[\"math_score\"]\n",
    "twelfth_grade_math_scores = twelfth_graders.groupby([\"school_name\"]).mean()[\"math_score\"]\n",
    "\n",
    "# Combine each of the scores above into single DataFrame called `math_scores_by_grade`\n",
    "math_scores_by_grade =  math_scores_by_grade[[\"9th\", \"10th\", \"11th\", \"12th\"]]\n",
    "\n",
    "# Combine each of the scores above into single DataFrame called `math_scores_by_grade`\n",
    "math_scores_by_grade = pd.DataFrame({\n",
    "    \"9th\": ninth_grade_math_scores,\n",
    "    \"10th\": tenth_grade_math_scores,\n",
    "    \"11th\": eleventh_grade_math_scores,\n",
    "    \"12th\": twelfth_grade_math_scores})\n",
    "\n",
    "math_scores_by_grade"
   ]
  },
  {
   "cell_type": "markdown",
   "metadata": {},
   "source": [
    "## Reading Score by Grade "
   ]
  },
  {
   "cell_type": "code",
   "execution_count": null,
   "metadata": {},
   "outputs": [],
   "source": [
    "# Use the code provided to separate the data by grade\n",
    "ninth_graders = school_data_complete[(school_data_complete[\"grade\"] == \"9th\")]\n",
    "tenth_graders = school_data_complete[(school_data_complete[\"grade\"] == \"10th\")]\n",
    "eleventh_graders = school_data_complete[(school_data_complete[\"grade\"] == \"11th\")]\n",
    "twelfth_graders = school_data_complete[(school_data_complete[\"grade\"] == \"12th\")]"
   ]
  },
  {
   "cell_type": "code",
   "execution_count": null,
   "metadata": {},
   "outputs": [],
   "source": [
    "# Group by `school_name` and take the mean of the the `reading_score` column for each.\n",
    "ninth_grade_reading_scores = ninth_graders.groupby([\"school_name\"]).mean()[\"reading_score\"]\n",
    "tenth_grade_reading_scores = tenth_graders.groupby([\"school_name\"]).mean()[\"reading_score\"]\n",
    "eleventh_grade_reading_scores = eleventh_graders.groupby([\"school_name\"]).mean()[\"reading_score\"]\n",
    "twelfth_grade_reading_scores = twelfth_graders.groupby([\"school_name\"]).mean()[\"reading_score\"]\n",
    "\n",
    "\n",
    "# Combine each Series for average reading scores by school into single DataFrame\n",
    "reading_scores_by_grade = pd.DataFrame({\n",
    "    \"9th\": ninth_grade_reading_scores,\n",
    "    \"10th\": tenth_grade_reading_scores,\n",
    "    \"11th\": eleventh_grade_reading_scores,\n",
    "    \"12th\": twelfth_grade_reading_scores})\n",
    "\n",
    "# Minor data wrangling\n",
    "\n",
    "reading_scores_by_grade.index.name = None\n",
    "\n",
    "# Display the DataFrame\n",
    "reading_scores_by_grade"
   ]
  },
  {
   "cell_type": "markdown",
   "metadata": {},
   "source": [
    "## Scores by School Spending"
   ]
  },
  {
   "cell_type": "code",
   "execution_count": 27,
   "metadata": {},
   "outputs": [],
   "source": [
    "# Establish the bins \n",
    "spending_bins = [0, 585, 630, 645, 680]\n",
    "labels = [\"<$585\", \"$585-630\", \"$630-645\", \"$645-680\"]"
   ]
  },
  {
   "cell_type": "code",
   "execution_count": 28,
   "metadata": {},
   "outputs": [],
   "source": [
    "# Create a copy of the school summary since it has the \"Per Student Budget\" \n",
    "school_spending_df = per_school_budget.copy()"
   ]
  },
  {
   "cell_type": "code",
   "execution_count": null,
   "metadata": {},
   "outputs": [],
   "source": []
  },
  {
   "cell_type": "code",
   "execution_count": 29,
   "metadata": {},
   "outputs": [
    {
     "ename": "TypeError",
     "evalue": "list indices must be integers or slices, not str",
     "output_type": "error",
     "traceback": [
      "\u001b[1;31m---------------------------------------------------------------------------\u001b[0m",
      "\u001b[1;31mTypeError\u001b[0m                                 Traceback (most recent call last)",
      "Cell \u001b[1;32mIn[29], line 2\u001b[0m\n\u001b[0;32m      1\u001b[0m \u001b[38;5;66;03m# Use `pd.cut` to categorize spending based on the bins.\u001b[39;00m\n\u001b[1;32m----> 2\u001b[0m school_spending_df[\u001b[38;5;124m\"\u001b[39m\u001b[38;5;124mSpending Ranges (Per Student)\u001b[39m\u001b[38;5;124m\"\u001b[39m] \u001b[38;5;241m=\u001b[39m pd\u001b[38;5;241m.\u001b[39mcut(per_school_budget, spending_bins, labels\u001b[38;5;241m=\u001b[39mlabels)\n\u001b[0;32m      4\u001b[0m school_spending_df\n",
      "\u001b[1;31mTypeError\u001b[0m: list indices must be integers or slices, not str"
     ]
    }
   ],
   "source": [
    "# Use `pd.cut` to categorize spending based on the bins.\n",
    "school_spending_df[\"Spending Ranges (Per Student)\"] = pd.cut(per_school_budget, spending_bins, labels=labels)\n",
    "\n",
    "school_spending_df"
   ]
  },
  {
   "cell_type": "code",
   "execution_count": null,
   "metadata": {},
   "outputs": [],
   "source": [
    "#  Calculate averages for the desired columns. \n",
    "spending_math_scores = school_spending_df.groupby([\"Spending Ranges (Per Student)\"])[\"Average Math Score\"].mean()\n",
    "spending_reading_scores = school_spending_df.groupby([\"Spending Ranges (Per Student)\"])[\"Average Reading Score\"].mean()\n",
    "spending_passing_math = school_spending_df.groupby([\"Spending Ranges (Per Student)\"])[\"% Passing Math\"].mean()\n",
    "spending_passing_reading = school_spending_df.groupby([\"Spending Ranges (Per Student)\"])[\"% Passing Reading\"].mean()\n",
    "overall_passing_spending = school_spending_df.groupby([\"Spending Ranges (Per Student)\"])[\"% Overall Passing\"].mean()"
   ]
  },
  {
   "cell_type": "code",
   "execution_count": null,
   "metadata": {},
   "outputs": [],
   "source": [
    "# Assemble into DataFrame\n",
    "spending_summary = \n",
    "\n",
    "# Display results\n",
    "spending_summary"
   ]
  },
  {
   "cell_type": "markdown",
   "metadata": {},
   "source": [
    "## Scores by School Size"
   ]
  },
  {
   "cell_type": "code",
   "execution_count": null,
   "metadata": {},
   "outputs": [],
   "source": [
    "# Establish the bins.\n",
    "size_bins = [0, 1000, 2000, 5000]\n",
    "labels = [\"Small (<1000)\", \"Medium (1000-2000)\", \"Large (2000-5000)\"]"
   ]
  },
  {
   "cell_type": "code",
   "execution_count": null,
   "metadata": {},
   "outputs": [],
   "source": [
    "# Categorize the spending based on the bins\n",
    "# Use `pd.cut` on the \"Total Students\" column of the `per_school_summary` DataFrame.\n",
    "\n",
    "per_school_summary[\"School Size\"] = \n",
    "per_school_summary"
   ]
  },
  {
   "cell_type": "code",
   "execution_count": null,
   "metadata": {},
   "outputs": [],
   "source": [
    "# Calculate averages for the desired columns. \n",
    "size_math_scores = per_school_summary.groupby([\"School Size\"])[\"Average Math Score\"].mean()\n",
    "size_reading_scores = per_school_summary.groupby([\"School Size\"])[\"Average Reading Score\"].mean()\n",
    "size_passing_math = per_school_summary.groupby([\"School Size\"])[\"% Passing Math\"].mean()\n",
    "size_passing_reading = per_school_summary.groupby([\"School Size\"])[\"% Passing Reading\"].mean()\n",
    "size_overall_passing = per_school_summary.groupby([\"School Size\"])[\"% Overall Passing\"].mean()"
   ]
  },
  {
   "cell_type": "code",
   "execution_count": null,
   "metadata": {
    "scrolled": true
   },
   "outputs": [],
   "source": [
    "# Create a DataFrame called `size_summary` that breaks down school performance based on school size (small, medium, or large).\n",
    "# Use the scores above to create a new DataFrame called `size_summary`\n",
    "size_summary = \n",
    "\n",
    "# Display results\n",
    "size_summary"
   ]
  },
  {
   "cell_type": "markdown",
   "metadata": {},
   "source": [
    "## Scores by School Type"
   ]
  },
  {
   "cell_type": "code",
   "execution_count": null,
   "metadata": {},
   "outputs": [],
   "source": [
    "# Group the per_school_summary DataFrame by \"School Type\" and average the results.\n",
    "average_math_score_by_type = per_school_summary.groupby([\"School Type\"])[\"Average Math Score\"].mean()\n",
    "average_reading_score_by_type = per_school_summary.groupby([\"School Type\"])[\"Average Reading Score\"].mean()\n",
    "average_percent_passing_math_by_type = per_school_summary.groupby([\"School Type\"])[\"% Passing Math\"].mean()\n",
    "average_percent_passing_reading_by_type = per_school_summary.groupby([\"School Type\"])[\"% Passing Reading\"].mean()\n",
    "average_percent_overall_passing_by_type = per_school_summary.groupby([\"School Type\"])[\"% Overall Passing\"].mean()"
   ]
  },
  {
   "cell_type": "code",
   "execution_count": null,
   "metadata": {},
   "outputs": [],
   "source": [
    "# Assemble the new data by type into a DataFrame called `type_summary`\n",
    "type_summary = \n",
    "\n",
    "# Display results\n",
    "type_summary"
   ]
  },
  {
   "cell_type": "code",
   "execution_count": null,
   "metadata": {},
   "outputs": [],
   "source": []
  }
 ],
 "metadata": {
  "anaconda-cloud": {},
  "kernel_info": {
   "name": "python3"
  },
  "kernelspec": {
   "display_name": "Python 3 (ipykernel)",
   "language": "python",
   "name": "python3"
  },
  "language_info": {
   "codemirror_mode": {
    "name": "ipython",
    "version": 3
   },
   "file_extension": ".py",
   "mimetype": "text/x-python",
   "name": "python",
   "nbconvert_exporter": "python",
   "pygments_lexer": "ipython3",
   "version": "3.11.5"
  },
  "latex_envs": {
   "LaTeX_envs_menu_present": true,
   "autoclose": false,
   "autocomplete": true,
   "bibliofile": "biblio.bib",
   "cite_by": "apalike",
   "current_citInitial": 1,
   "eqLabelWithNumbers": true,
   "eqNumInitial": 1,
   "hotkeys": {
    "equation": "Ctrl-E",
    "itemize": "Ctrl-I"
   },
   "labels_anchors": false,
   "latex_user_defs": false,
   "report_style_numbering": false,
   "user_envs_cfg": false
  },
  "nteract": {
   "version": "0.8.4"
  },
  "vscode": {
   "interpreter": {
    "hash": "5384d77d82de63fd599f73e77f9ec786e7719288bf80a29ec0288c670ac3cf32"
   }
  }
 },
 "nbformat": 4,
 "nbformat_minor": 4
}
